{
 "cells": [
  {
   "cell_type": "code",
   "id": "initial_id",
   "metadata": {
    "collapsed": true,
    "ExecuteTime": {
     "end_time": "2025-05-19T15:21:50.422716Z",
     "start_time": "2025-05-19T15:21:50.405203Z"
    }
   },
   "source": [
    "import warnings\n",
    "\n",
    "import numpy as np\n",
    "import pandas as pd\n",
    "import matplotlib.pyplot as plt\n",
    "\n",
    "from scipy.sparse import hstack\n",
    "\n",
    "from sklearn.feature_extraction.text import TfidfVectorizer\n",
    "from sklearn.preprocessing import MultiLabelBinarizer\n",
    "from sklearn.model_selection import train_test_split\n",
    "from sklearn.linear_model import LogisticRegression\n",
    "from sklearn.multiclass import OneVsRestClassifier\n",
    "\n",
    "from sklearn.metrics import ( hamming_loss, accuracy_score,\n",
    "    f1_score, classification_report, recall_score, precision_score\n",
    ")\n",
    "import joblib\n",
    "\n",
    "warnings.filterwarnings(\"ignore\")\n",
    "plt.style.use('bmh')"
   ],
   "outputs": [],
   "execution_count": 46
  },
  {
   "metadata": {},
   "cell_type": "code",
   "outputs": [],
   "execution_count": null,
   "source": [
    "def read_data(file_path):\n",
    "    \"\"\"\n",
    "    Lee un archivo parquet y lo carga en un DataFrame de pandas.\n",
    "\n",
    "    Parámetros\n",
    "    ----------\n",
    "    file_path: str\n",
    "        Ruta al archivo parquet que se desea leer.\n",
    "\n",
    "    Retorna\n",
    "    -------\n",
    "    pandas.DataFrame\n",
    "        DataFrame con los datos cargados desde el archivo parquet.\n",
    "    \"\"\"\n",
    "    data = pd.read_parquet(file_path)\n",
    "    return data"
   ],
   "id": "b6616fd798c44838"
  },
  {
   "metadata": {
    "ExecuteTime": {
     "end_time": "2025-05-19T15:13:45.610011Z",
     "start_time": "2025-05-19T15:13:45.594785Z"
    }
   },
   "cell_type": "code",
   "source": [
    "def col_vectorizer_tfidf(df, col):\n",
    "    \"\"\"\n",
    "    Convierte la columna especificada a string, la vectoriza usando TF-IDF y retorna la matriz y el vectorizador.\n",
    "\n",
    "    Parámetros\n",
    "    ----------\n",
    "    df: pandas.DataFrame\n",
    "        DataFrame que contiene la columna a vectorizar.\n",
    "    col: str\n",
    "        Nombre de la columna de texto.\n",
    "\n",
    "    Retorna\n",
    "    -------\n",
    "    X : scipy.sparse.csr.csr_matrix\n",
    "        Matriz TF-IDF.\n",
    "    vectorizer : TfidfVectorizer\n",
    "        Vectorizador entrenado.\n",
    "    \"\"\"\n",
    "    df[col] = df[col].astype(str)\n",
    "    vectorizer = TfidfVectorizer()\n",
    "    X = vectorizer.fit_transform(df[col].str.lower())\n",
    "    return X, vectorizer"
   ],
   "id": "5c0592840e8d8",
   "outputs": [],
   "execution_count": 45
  },
  {
   "metadata": {},
   "cell_type": "code",
   "outputs": [],
   "execution_count": null,
   "source": [
    "def avg_jacard(y_true,y_pred):\n",
    "    \"\"\"\n",
    "    Calcula el porcentaje promedio de similitud de Jaccard entre matrices binarias de etiquetas verdaderas y predichas.\n",
    "\n",
    "    Parámetros\n",
    "    ----------\n",
    "    y_true : array-like de forma (n_muestras, n_etiquetas)\n",
    "        Matriz binaria con las etiquetas verdaderas para cada muestra.\n",
    "    y_pred : array-like de forma (n_muestras, n_etiquetas)\n",
    "        Matriz binaria con las etiquetas predichas para cada muestra.\n",
    "\n",
    "    Retorna\n",
    "    -------\n",
    "    float\n",
    "        Porcentaje promedio de Jaccard (0–100) calculado como:\n",
    "        (|intersección| / |unión|) medio por muestra, multiplicado por 100.\n",
    "    \"\"\"\n",
    "    jacard = np.minimum(y_true,y_pred).sum(axis=1) / np.maximum(y_true,y_pred).sum(axis=1)\n",
    "    return jacard.mean()*100"
   ],
   "id": "6ef8555972111fe3"
  },
  {
   "metadata": {},
   "cell_type": "code",
   "outputs": [],
   "execution_count": null,
   "source": [
    "def print_score(y_pred, clf):\n",
    "    \"\"\"\n",
    "    Imprime métricas de evaluación de clasificación multilabel para un clasificador dado.\n",
    "\n",
    "    Parámetros\n",
    "    ----------\n",
    "    y_pred : array-like\n",
    "        Predicciones generadas por el clasificador.\n",
    "    clf : objeto clasificador\n",
    "        Instancia del modelo utilizado para predecir, se usa solo para mostrar su nombre de clase.\n",
    "\n",
    "    Comportamiento\n",
    "    -------------\n",
    "    - Muestra por consola:\n",
    "      * Nombre de la clase del clasificador.\n",
    "      * Exactitud (accuracy).\n",
    "      * Recall ponderado.\n",
    "      * Precisión ponderada.\n",
    "      * Puntuación F1 ponderada.\n",
    "      * Puntuación de Jaccard promedio (porcentaje).\n",
    "      * Hamming loss en porcentaje.\n",
    "    - Asume que la variable global `y_test` contiene las etiquetas verdaderas.\n",
    "\n",
    "    Retorna\n",
    "    -------\n",
    "    None\n",
    "    \"\"\"\n",
    "    print(\"Clf: \", clf.__class__.__name__)\n",
    "    print(\"Accuracy score: {}\".format(accuracy_score(y_test, y_pred)))\n",
    "    print(\"Recall score: {}\".format(recall_score(y_true=y_test, y_pred=y_pred, average='weighted')))\n",
    "    print(\"Precision score: {}\".format(precision_score(y_true=y_test, y_pred=y_pred, average='weighted')))\n",
    "    print(\"F1 score: {}\".format(f1_score(y_pred, y_test, average='weighted')))\n",
    "    print(\"Jacard score: {}\".format(avg_jacard(y_test, y_pred)))\n",
    "    print(\"Hamming loss: {}\".format(hamming_loss(y_pred, y_test)*100))\n",
    "    print(\"---\")"
   ],
   "id": "4ab37dc01ce9aeb0"
  },
  {
   "metadata": {},
   "cell_type": "code",
   "outputs": [],
   "execution_count": 32,
   "source": "data = pd.read_parquet('../data/output/StackOverflow.parquet')",
   "id": "493bb2d7d60b33ed"
  },
  {
   "metadata": {},
   "cell_type": "code",
   "outputs": [],
   "execution_count": 34,
   "source": "X1, vectorizer = col_vectorizer_tfidf(data, 'Title')",
   "id": "e9a38893dacae20b"
  },
  {
   "metadata": {
    "ExecuteTime": {
     "end_time": "2025-05-19T14:21:55.607635Z",
     "start_time": "2025-05-19T14:20:36.062412Z"
    }
   },
   "cell_type": "code",
   "source": "X2, vectorizer = col_vectorizer_tfidf(data, 'Body')",
   "id": "2d5f926f9c5f06a2",
   "outputs": [],
   "execution_count": 35
  },
  {
   "metadata": {
    "ExecuteTime": {
     "end_time": "2025-05-19T14:21:56.895267Z",
     "start_time": "2025-05-19T14:21:55.640561Z"
    }
   },
   "cell_type": "code",
   "source": [
    "y = data['Tag']\n",
    "multilabel_binarizer = MultiLabelBinarizer()\n",
    "new_y = multilabel_binarizer.fit_transform(y)"
   ],
   "id": "c150971db1c1717e",
   "outputs": [],
   "execution_count": 36
  },
  {
   "metadata": {
    "ExecuteTime": {
     "end_time": "2025-05-19T14:21:56.913845Z",
     "start_time": "2025-05-19T14:21:56.909284Z"
    }
   },
   "cell_type": "code",
   "source": "new_y",
   "id": "5cfbc02373eb0ec7",
   "outputs": [
    {
     "data": {
      "text/plain": [
       "array([[0, 0, 1, ..., 0, 0, 0],\n",
       "       [0, 0, 0, ..., 0, 0, 0],\n",
       "       [0, 0, 0, ..., 0, 0, 0],\n",
       "       ...,\n",
       "       [1, 0, 0, ..., 0, 0, 0],\n",
       "       [0, 0, 0, ..., 0, 0, 0],\n",
       "       [0, 0, 0, ..., 0, 0, 0]], shape=(1075316, 120))"
      ]
     },
     "execution_count": 37,
     "metadata": {},
     "output_type": "execute_result"
    }
   ],
   "execution_count": 37
  },
  {
   "metadata": {
    "ExecuteTime": {
     "end_time": "2025-05-19T14:21:57.771364Z",
     "start_time": "2025-05-19T14:21:56.971593Z"
    }
   },
   "cell_type": "code",
   "source": "X=hstack([X1,X2])",
   "id": "8dfb09d99fe3d713",
   "outputs": [],
   "execution_count": 38
  },
  {
   "metadata": {
    "ExecuteTime": {
     "end_time": "2025-05-19T14:21:58.678588Z",
     "start_time": "2025-05-19T14:21:57.827462Z"
    }
   },
   "cell_type": "code",
   "source": "X_train, X_test, y_train, y_test = train_test_split(X, new_y, test_size = 0.3, random_state = 42)",
   "id": "e1f119bb1ac5a25c",
   "outputs": [],
   "execution_count": 39
  },
  {
   "metadata": {
    "ExecuteTime": {
     "end_time": "2025-05-19T14:21:58.701711Z",
     "start_time": "2025-05-19T14:21:58.695706Z"
    }
   },
   "cell_type": "code",
   "source": "y_train",
   "id": "a0dc66712eda2ab2",
   "outputs": [
    {
     "data": {
      "text/plain": [
       "array([[0, 0, 0, ..., 0, 0, 0],\n",
       "       [0, 0, 0, ..., 0, 0, 0],\n",
       "       [0, 0, 0, ..., 0, 0, 0],\n",
       "       ...,\n",
       "       [0, 0, 1, ..., 0, 0, 0],\n",
       "       [0, 0, 0, ..., 0, 0, 0],\n",
       "       [0, 0, 0, ..., 0, 0, 0]], shape=(752721, 120))"
      ]
     },
     "execution_count": 40,
     "metadata": {},
     "output_type": "execute_result"
    }
   ],
   "execution_count": 40
  },
  {
   "metadata": {
    "ExecuteTime": {
     "end_time": "2025-05-19T14:21:58.748317Z",
     "start_time": "2025-05-19T14:21:58.745351Z"
    }
   },
   "cell_type": "code",
   "source": "print(X_train.shape, X_test.shape, y_train.shape, y_test.shape)",
   "id": "2ca07af4bc3d1f77",
   "outputs": [
    {
     "name": "stdout",
     "output_type": "stream",
     "text": [
      "(752721, 3065030) (322595, 3065030) (752721, 120) (322595, 120)\n"
     ]
    }
   ],
   "execution_count": 41
  },
  {
   "metadata": {},
   "cell_type": "code",
   "outputs": [],
   "execution_count": null,
   "source": "data['text'] = data['Title'] + \" \" + data['Body']",
   "id": "5629b214c1181a6a"
  },
  {
   "metadata": {},
   "cell_type": "code",
   "outputs": [],
   "execution_count": null,
   "source": [
    "mlb = MultiLabelBinarizer()\n",
    "y = mlb.fit_transform(data['Tag'])"
   ],
   "id": "1387a2e1045917dc"
  },
  {
   "metadata": {},
   "cell_type": "code",
   "outputs": [],
   "execution_count": null,
   "source": [
    "vectorizer = TfidfVectorizer(max_features=5000, stop_words='english')\n",
    "X = vectorizer.fit_transform(data['text'])"
   ],
   "id": "f5ffbf5b8a23ad53"
  },
  {
   "metadata": {},
   "cell_type": "code",
   "outputs": [],
   "execution_count": null,
   "source": "X_train, X_test, y_train, y_test = train_test_split(X, y, test_size=0.2, random_state=42)",
   "id": "f8017c22bdc17e9e"
  },
  {
   "metadata": {},
   "cell_type": "code",
   "outputs": [],
   "execution_count": null,
   "source": [
    "clf = OneVsRestClassifier(LogisticRegression(solver='liblinear'))\n",
    "clf.fit(X_train, y_train)"
   ],
   "id": "12148742a687fe8b"
  },
  {
   "metadata": {},
   "cell_type": "code",
   "outputs": [],
   "execution_count": null,
   "source": [
    "y_pred = clf.predict(X_test)\n",
    "print(\"F1-score (micro):\", f1_score(y_test, y_pred, average='micro'))\n",
    "print(\"F1-score (macro):\", f1_score(y_test, y_pred, average='macro'))\n",
    "print(\"\\nReporte por etiqueta:\")\n",
    "print(classification_report(y_test, y_pred, target_names=mlb.classes_))"
   ],
   "id": "96869c7d5e0a886b"
  },
  {
   "metadata": {
    "ExecuteTime": {
     "end_time": "2025-05-19T14:34:48.752815Z",
     "start_time": "2025-05-19T14:21:58.820404Z"
    }
   },
   "cell_type": "code",
   "source": "print_score(y_pred, clf)",
   "id": "dd1a80c7b7751566",
   "outputs": [
    {
     "name": "stdout",
     "output_type": "stream",
     "text": [
      "F1-score (micro): 0.6326671420079271\n",
      "F1-score (macro): 0.5129166983827547\n",
      "\n",
      "Reporte por etiqueta:\n",
      "                    precision    recall  f1-score   support\n",
      "\n",
      "         .htaccess       0.88      0.77      0.82      1042\n",
      "              .net       0.52      0.09      0.16      4836\n",
      "    actionscript-3       0.89      0.53      0.66       824\n",
      "              ajax       0.73      0.49      0.59      3151\n",
      "         algorithm       0.76      0.35      0.48      1317\n",
      "           android       0.96      0.86      0.90     18231\n",
      "    android-layout       0.49      0.11      0.18       796\n",
      "         angularjs       0.95      0.82      0.88      4080\n",
      "            apache       0.68      0.41      0.51      1314\n",
      "               api       0.43      0.13      0.20       936\n",
      "            arrays       0.61      0.31      0.41      3852\n",
      "           asp.net       0.80      0.47      0.59      6064\n",
      "       asp.net-mvc       0.68      0.43      0.53      2866\n",
      "     asp.net-mvc-3       0.60      0.21      0.31       714\n",
      "     asp.net-mvc-4       0.38      0.08      0.13       769\n",
      "              bash       0.79      0.55      0.65      1485\n",
      "                 c       0.82      0.51      0.63      4793\n",
      "                c#       0.75      0.48      0.59     20355\n",
      "               c++       0.84      0.57      0.68      9395\n",
      "             class       0.24      0.04      0.06       882\n",
      "       codeigniter       0.93      0.65      0.76       986\n",
      "           cordova       0.93      0.69      0.79      1006\n",
      "               css       0.80      0.63      0.71      8315\n",
      "              css3       0.60      0.17      0.26      1131\n",
      "               csv       0.66      0.46      0.54       762\n",
      "          database       0.42      0.07      0.12      2349\n",
      "              date       0.44      0.19      0.26       803\n",
      "            delphi       0.97      0.66      0.79       758\n",
      "            django       0.96      0.83      0.89      2566\n",
      "           eclipse       0.81      0.51      0.63      1942\n",
      "             email       0.53      0.33      0.40       791\n",
      "  entity-framework       0.77      0.49      0.60      1243\n",
      "             excel       0.74      0.59      0.66      2009\n",
      "         excel-vba       0.67      0.50      0.57      1048\n",
      "          facebook       0.83      0.72      0.77      1530\n",
      "              file       0.30      0.04      0.06      1024\n",
      "             forms       0.44      0.16      0.23      1552\n",
      "          function       0.31      0.05      0.09      1040\n",
      "               git       0.93      0.84      0.88      1455\n",
      " google-app-engine       0.91      0.59      0.72       722\n",
      "     google-chrome       0.68      0.42      0.52       865\n",
      "       google-maps       0.74      0.52      0.61       956\n",
      "         hibernate       0.88      0.67      0.76      1212\n",
      "              html       0.61      0.32      0.42     11745\n",
      "             html5       0.74      0.24      0.36      1977\n",
      "              http       0.42      0.09      0.14       733\n",
      "             image       0.32      0.09      0.14      1503\n",
      "               ios       0.75      0.58      0.66      9402\n",
      "            iphone       0.63      0.32      0.42      4255\n",
      "              java       0.83      0.61      0.70     22935\n",
      "        javascript       0.76      0.58      0.66     24758\n",
      "            jquery       0.86      0.68      0.76     15838\n",
      "              json       0.74      0.49      0.59      3494\n",
      "               jsp       0.77      0.48      0.59       822\n",
      "           laravel       0.81      0.56      0.66       995\n",
      "              linq       0.80      0.51      0.62      1196\n",
      "             linux       0.68      0.32      0.43      2681\n",
      "              list       0.46      0.17      0.25      1146\n",
      "          listview       0.57      0.35      0.43       726\n",
      "             loops       0.32      0.06      0.10       803\n",
      "            matlab       0.97      0.75      0.85      1243\n",
      "             maven       0.84      0.68      0.75       905\n",
      "           mongodb       0.91      0.73      0.81      1395\n",
      "    multithreading       0.69      0.43      0.53      1776\n",
      "             mysql       0.84      0.63      0.72      8663\n",
      "           node.js       0.86      0.64      0.73      2868\n",
      "       objective-c       0.62      0.36      0.46      5354\n",
      "               oop       0.35      0.04      0.06       817\n",
      "            oracle       0.85      0.54      0.66      1554\n",
      "               osx       0.69      0.30      0.42      1469\n",
      "           parsing       0.43      0.11      0.17       731\n",
      "       performance       0.46      0.13      0.20      1352\n",
      "              perl       0.95      0.69      0.80      1012\n",
      "               php       0.87      0.70      0.78     19791\n",
      "        postgresql       0.90      0.54      0.68      1199\n",
      "        powershell       0.97      0.71      0.82       793\n",
      "            python       0.89      0.74      0.80     12850\n",
      "        python-2.7       0.15      0.01      0.02      1137\n",
      "        python-3.x       0.49      0.05      0.10       867\n",
      "                qt       0.91      0.59      0.72      1108\n",
      "                 r       0.91      0.59      0.72      3066\n",
      "             regex       0.87      0.66      0.75      2964\n",
      "              rest       0.69      0.33      0.45      1008\n",
      "              ruby       0.72      0.42      0.53      3389\n",
      "     ruby-on-rails       0.87      0.68      0.77      5050\n",
      "   ruby-on-rails-3       0.25      0.05      0.08      1073\n",
      "             scala       0.95      0.72      0.82      1118\n",
      "          security       0.50      0.13      0.21       766\n",
      "             shell       0.64      0.31      0.42      1010\n",
      "           sockets       0.68      0.43      0.52       894\n",
      "           sorting       0.62      0.34      0.44       790\n",
      "            spring       0.78      0.58      0.66      1959\n",
      "        spring-mvc       0.62      0.33      0.43       734\n",
      "               sql       0.61      0.36      0.45      7202\n",
      "        sql-server       0.65      0.36      0.46      3584\n",
      "   sql-server-2008       0.46      0.10      0.16      1000\n",
      "            sqlite       0.79      0.47      0.59      1019\n",
      "            string       0.48      0.15      0.23      2103\n",
      "             swift       0.90      0.66      0.76      2352\n",
      "             swing       0.79      0.52      0.63      1305\n",
      "          symfony2       0.90      0.66      0.76       859\n",
      "              tsql       0.35      0.03      0.06       835\n",
      " twitter-bootstrap       0.78      0.53      0.63      1379\n",
      "       uitableview       0.74      0.54      0.62       966\n",
      "      unit-testing       0.66      0.40      0.50       889\n",
      "    user-interface       0.53      0.10      0.17       786\n",
      "        validation       0.53      0.27      0.36       918\n",
      "            vb.net       0.83      0.53      0.65      2148\n",
      "               vba       0.79      0.60      0.68      1429\n",
      "     visual-studio       0.52      0.21      0.30      1207\n",
      "visual-studio-2010       0.64      0.22      0.33       917\n",
      "               wcf       0.92      0.74      0.82       918\n",
      "      web-services       0.63      0.30      0.41      1031\n",
      "           windows       0.53      0.17      0.26      2072\n",
      "          winforms       0.62      0.25      0.36      1406\n",
      "         wordpress       0.91      0.72      0.80      2000\n",
      "               wpf       0.90      0.67      0.77      2477\n",
      "              xaml       0.61      0.31      0.41       829\n",
      "             xcode       0.69      0.28      0.40      2122\n",
      "               xml       0.71      0.47      0.57      2872\n",
      "\n",
      "         micro avg       0.80      0.52      0.63    366106\n",
      "         macro avg       0.69      0.42      0.51    366106\n",
      "      weighted avg       0.76      0.52      0.61    366106\n",
      "       samples avg       0.65      0.57      0.58    366106\n",
      "\n",
      "Clf:  OneVsRestClassifier\n",
      "Accuracy score: 0.3339843023472083\n",
      "Recall score: 0.5247223481723873\n",
      "Precision score: 0.7606334442730649\n",
      "F1 score: 0.6118175157543537\n",
      "Jacard score: 51.53895053166898\n",
      "Hamming loss: 0.864374480774715\n",
      "---\n"
     ]
    }
   ],
   "execution_count": 43
  },
  {
   "metadata": {
    "ExecuteTime": {
     "end_time": "2025-05-19T14:34:48.794346Z",
     "start_time": "2025-05-19T14:34:48.782477Z"
    }
   },
   "cell_type": "code",
   "source": [
    "new_title = \"Que es python y como lo podria integrar con SQL\"\n",
    "new_body = \"No entiendo como se hace en sql un update\"\n",
    "new_text = new_title.lower() + ' ' + new_body.lower()\n",
    "X_new = vectorizer.transform([new_text])\n",
    "y_new_pred = clf.predict(X_new)\n",
    "predicted_tags = mlb.inverse_transform(y_new_pred)\n",
    "print(\"Etiquetas predichas para el nuevo texto:\", predicted_tags)"
   ],
   "id": "c7255bf58f5b514a",
   "outputs": [
    {
     "name": "stdout",
     "output_type": "stream",
     "text": [
      "Etiquetas predichas para el nuevo texto: [('python', 'sql')]\n"
     ]
    }
   ],
   "execution_count": 44
  },
  {
   "metadata": {
    "ExecuteTime": {
     "end_time": "2025-05-19T15:23:28.984851Z",
     "start_time": "2025-05-19T15:23:28.914372Z"
    }
   },
   "cell_type": "code",
   "source": [
    "\n",
    "joblib.dump(clf, '../models/modelo_logreg.joblib')\n",
    "joblib.dump(vectorizer, '../models/vectorizer_tfidf.joblib')\n",
    "joblib.dump(mlb, '../models/multilabel_binarizer.joblib')"
   ],
   "id": "f203cc2ed7edf607",
   "outputs": [
    {
     "data": {
      "text/plain": [
       "['../models/multilabel_binarizer.joblib']"
      ]
     },
     "execution_count": 48,
     "metadata": {},
     "output_type": "execute_result"
    }
   ],
   "execution_count": 48
  }
 ],
 "metadata": {
  "kernelspec": {
   "display_name": "Python 3",
   "language": "python",
   "name": "python3"
  },
  "language_info": {
   "codemirror_mode": {
    "name": "ipython",
    "version": 2
   },
   "file_extension": ".py",
   "mimetype": "text/x-python",
   "name": "python",
   "nbconvert_exporter": "python",
   "pygments_lexer": "ipython2",
   "version": "2.7.6"
  }
 },
 "nbformat": 4,
 "nbformat_minor": 5
}
