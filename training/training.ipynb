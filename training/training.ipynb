{
 "cells": [
  {
   "cell_type": "code",
   "id": "initial_id",
   "metadata": {
    "collapsed": true,
    "ExecuteTime": {
     "end_time": "2025-05-19T17:27:52.200232Z",
     "start_time": "2025-05-19T17:27:50.925679Z"
    }
   },
   "source": [
    "import warnings\n",
    "\n",
    "import numpy as np\n",
    "import pandas as pd\n",
    "import matplotlib.pyplot as plt\n",
    "\n",
    "from scipy.sparse import hstack\n",
    "\n",
    "from sklearn.feature_extraction.text import TfidfVectorizer\n",
    "from sklearn.preprocessing import MultiLabelBinarizer\n",
    "from sklearn.model_selection import train_test_split\n",
    "from sklearn.linear_model import LogisticRegression\n",
    "from sklearn.multiclass import OneVsRestClassifier\n",
    "\n",
    "from sklearn.metrics import ( hamming_loss, accuracy_score,\n",
    "    f1_score, classification_report, recall_score, precision_score\n",
    ")\n",
    "import joblib\n",
    "\n",
    "warnings.filterwarnings(\"ignore\")\n",
    "plt.style.use('bmh')"
   ],
   "outputs": [],
   "execution_count": 1
  },
  {
   "metadata": {
    "ExecuteTime": {
     "end_time": "2025-05-19T17:27:52.453027Z",
     "start_time": "2025-05-19T17:27:52.450006Z"
    }
   },
   "cell_type": "code",
   "source": [
    "def read_data(file_path):\n",
    "    \"\"\"\n",
    "    Lee un archivo parquet y lo carga en un DataFrame de pandas.\n",
    "\n",
    "    Parámetros\n",
    "    ----------\n",
    "    file_path: str\n",
    "        Ruta al archivo parquet que se desea leer.\n",
    "\n",
    "    Retorna\n",
    "    -------\n",
    "    pandas.DataFrame\n",
    "        DataFrame con los datos cargados desde el archivo parquet.\n",
    "    \"\"\"\n",
    "    data = pd.read_parquet(file_path)\n",
    "    return data"
   ],
   "id": "b6616fd798c44838",
   "outputs": [],
   "execution_count": 2
  },
  {
   "metadata": {
    "ExecuteTime": {
     "end_time": "2025-05-19T17:27:52.467423Z",
     "start_time": "2025-05-19T17:27:52.464351Z"
    }
   },
   "cell_type": "code",
   "source": [
    "def col_vectorizer_tfidf(df, col):\n",
    "    \"\"\"\n",
    "    Convierte la columna especificada a string, la vectoriza usando TF-IDF y retorna la matriz y el vectorizador.\n",
    "\n",
    "    Parámetros\n",
    "    ----------\n",
    "    df: pandas.DataFrame\n",
    "        DataFrame que contiene la columna a vectorizar.\n",
    "    col: str\n",
    "        Nombre de la columna de texto.\n",
    "\n",
    "    Retorna\n",
    "    -------\n",
    "    X : scipy.sparse.csr.csr_matrix\n",
    "        Matriz TF-IDF.\n",
    "    vectorizer : TfidfVectorizer\n",
    "        Vectorizador entrenado.\n",
    "    \"\"\"\n",
    "    df[col] = df[col].astype(str)\n",
    "    vectorizer = TfidfVectorizer()\n",
    "    X = vectorizer.fit_transform(df[col].str.lower())\n",
    "    return X, vectorizer"
   ],
   "id": "5c0592840e8d8",
   "outputs": [],
   "execution_count": 3
  },
  {
   "metadata": {
    "ExecuteTime": {
     "end_time": "2025-05-19T17:27:52.483705Z",
     "start_time": "2025-05-19T17:27:52.480196Z"
    }
   },
   "cell_type": "code",
   "source": [
    "def avg_jacard(y_true,y_pred):\n",
    "    \"\"\"\n",
    "    Calcula el porcentaje promedio de similitud de Jaccard entre matrices binarias de etiquetas verdaderas y predichas.\n",
    "\n",
    "    Parámetros\n",
    "    ----------\n",
    "    y_true : array-like de forma (n_muestras, n_etiquetas)\n",
    "        Matriz binaria con las etiquetas verdaderas para cada muestra.\n",
    "    y_pred : array-like de forma (n_muestras, n_etiquetas)\n",
    "        Matriz binaria con las etiquetas predichas para cada muestra.\n",
    "\n",
    "    Retorna\n",
    "    -------\n",
    "    float\n",
    "        Porcentaje promedio de Jaccard (0–100) calculado como:\n",
    "        (|intersección| / |unión|) medio por muestra, multiplicado por 100.\n",
    "    \"\"\"\n",
    "    jacard = np.minimum(y_true,y_pred).sum(axis=1) / np.maximum(y_true,y_pred).sum(axis=1)\n",
    "    return jacard.mean()*100"
   ],
   "id": "6ef8555972111fe3",
   "outputs": [],
   "execution_count": 4
  },
  {
   "metadata": {
    "ExecuteTime": {
     "end_time": "2025-05-19T17:27:52.498367Z",
     "start_time": "2025-05-19T17:27:52.494755Z"
    }
   },
   "cell_type": "code",
   "source": [
    "def print_score(y_pred, clf):\n",
    "    \"\"\"\n",
    "    Imprime métricas de evaluación de clasificación multilabel para un clasificador dado.\n",
    "\n",
    "    Parámetros\n",
    "    ----------\n",
    "    y_pred : array-like\n",
    "        Predicciones generadas por el clasificador.\n",
    "    clf : objeto clasificador\n",
    "        Instancia del modelo utilizado para predecir, se usa solo para mostrar su nombre de clase.\n",
    "\n",
    "    Comportamiento\n",
    "    -------------\n",
    "    - Muestra por consola:\n",
    "      * Nombre de la clase del clasificador.\n",
    "      * Exactitud (accuracy).\n",
    "      * Recall ponderado.\n",
    "      * Precisión ponderada.\n",
    "      * Puntuación F1 ponderada.\n",
    "      * Puntuación de Jaccard promedio (porcentaje).\n",
    "      * Hamming loss en porcentaje.\n",
    "    - Asume que la variable global `y_test` contiene las etiquetas verdaderas.\n",
    "\n",
    "    Retorna\n",
    "    -------\n",
    "    None\n",
    "    \"\"\"\n",
    "    print(\"Clf: \", clf.__class__.__name__)\n",
    "    print(\"Accuracy score: {}\".format(accuracy_score(y_test, y_pred)))\n",
    "    print(\"Recall score: {}\".format(recall_score(y_true=y_test, y_pred=y_pred, average='weighted')))\n",
    "    print(\"Precision score: {}\".format(precision_score(y_true=y_test, y_pred=y_pred, average='weighted')))\n",
    "    print(\"F1 score: {}\".format(f1_score(y_pred, y_test, average='weighted')))\n",
    "    print(\"Jacard score: {}\".format(avg_jacard(y_test, y_pred)))\n",
    "    print(\"Hamming loss: {}\".format(hamming_loss(y_pred, y_test)*100))\n",
    "    print(\"---\")"
   ],
   "id": "4ab37dc01ce9aeb0",
   "outputs": [],
   "execution_count": 5
  },
  {
   "metadata": {
    "ExecuteTime": {
     "end_time": "2025-05-19T17:27:55.343058Z",
     "start_time": "2025-05-19T17:27:52.505760Z"
    }
   },
   "cell_type": "code",
   "source": "data = pd.read_parquet('../data/output/StackOverflow.parquet')",
   "id": "493bb2d7d60b33ed",
   "outputs": [],
   "execution_count": 6
  },
  {
   "metadata": {
    "ExecuteTime": {
     "end_time": "2025-05-19T17:28:00.464744Z",
     "start_time": "2025-05-19T17:27:55.356964Z"
    }
   },
   "cell_type": "code",
   "source": "X1, vectorizer = col_vectorizer_tfidf(data, 'Title')",
   "id": "e9a38893dacae20b",
   "outputs": [],
   "execution_count": 7
  },
  {
   "metadata": {
    "ExecuteTime": {
     "end_time": "2025-05-19T17:29:18.597332Z",
     "start_time": "2025-05-19T17:28:00.474362Z"
    }
   },
   "cell_type": "code",
   "source": "X2, vectorizer = col_vectorizer_tfidf(data, 'Body')",
   "id": "2d5f926f9c5f06a2",
   "outputs": [],
   "execution_count": 8
  },
  {
   "metadata": {
    "ExecuteTime": {
     "end_time": "2025-05-19T17:29:19.578545Z",
     "start_time": "2025-05-19T17:29:18.649797Z"
    }
   },
   "cell_type": "code",
   "source": [
    "y = data['Tag']\n",
    "multilabel_binarizer = MultiLabelBinarizer()\n",
    "new_y = multilabel_binarizer.fit_transform(y)"
   ],
   "id": "c150971db1c1717e",
   "outputs": [],
   "execution_count": 9
  },
  {
   "metadata": {
    "ExecuteTime": {
     "end_time": "2025-05-19T17:29:19.595561Z",
     "start_time": "2025-05-19T17:29:19.589559Z"
    }
   },
   "cell_type": "code",
   "source": "new_y",
   "id": "5cfbc02373eb0ec7",
   "outputs": [
    {
     "data": {
      "text/plain": [
       "array([[0, 0, 0, ..., 0, 0, 0],\n",
       "       [0, 0, 0, ..., 0, 0, 0],\n",
       "       [0, 1, 0, ..., 0, 0, 0],\n",
       "       ...,\n",
       "       [1, 0, 0, ..., 0, 0, 0],\n",
       "       [0, 0, 0, ..., 0, 0, 0],\n",
       "       [0, 0, 0, ..., 0, 0, 0]], shape=(1057478, 100))"
      ]
     },
     "execution_count": 10,
     "metadata": {},
     "output_type": "execute_result"
    }
   ],
   "execution_count": 10
  },
  {
   "metadata": {
    "ExecuteTime": {
     "end_time": "2025-05-19T17:29:20.314930Z",
     "start_time": "2025-05-19T17:29:19.617603Z"
    }
   },
   "cell_type": "code",
   "source": "X=hstack([X1,X2])",
   "id": "8dfb09d99fe3d713",
   "outputs": [],
   "execution_count": 11
  },
  {
   "metadata": {
    "ExecuteTime": {
     "end_time": "2025-05-19T17:29:21.303001Z",
     "start_time": "2025-05-19T17:29:20.573680Z"
    }
   },
   "cell_type": "code",
   "source": "X_train, X_test, y_train, y_test = train_test_split(X, new_y, test_size = 0.3, random_state = 42)",
   "id": "e1f119bb1ac5a25c",
   "outputs": [],
   "execution_count": 12
  },
  {
   "metadata": {
    "ExecuteTime": {
     "end_time": "2025-05-19T17:29:21.351399Z",
     "start_time": "2025-05-19T17:29:21.347470Z"
    }
   },
   "cell_type": "code",
   "source": "y_train",
   "id": "a0dc66712eda2ab2",
   "outputs": [
    {
     "data": {
      "text/plain": [
       "array([[0, 0, 0, ..., 0, 0, 0],\n",
       "       [0, 0, 0, ..., 0, 0, 0],\n",
       "       [0, 0, 0, ..., 0, 0, 0],\n",
       "       ...,\n",
       "       [0, 0, 0, ..., 0, 0, 0],\n",
       "       [0, 0, 0, ..., 0, 0, 0],\n",
       "       [0, 0, 0, ..., 0, 0, 0]], shape=(740234, 100))"
      ]
     },
     "execution_count": 13,
     "metadata": {},
     "output_type": "execute_result"
    }
   ],
   "execution_count": 13
  },
  {
   "metadata": {
    "ExecuteTime": {
     "end_time": "2025-05-19T17:29:21.495506Z",
     "start_time": "2025-05-19T17:29:21.492506Z"
    }
   },
   "cell_type": "code",
   "source": "print(X_train.shape, X_test.shape, y_train.shape, y_test.shape)",
   "id": "2ca07af4bc3d1f77",
   "outputs": [
    {
     "name": "stdout",
     "output_type": "stream",
     "text": [
      "(740234, 3025362) (317244, 3025362) (740234, 100) (317244, 100)\n"
     ]
    }
   ],
   "execution_count": 14
  },
  {
   "metadata": {
    "ExecuteTime": {
     "end_time": "2025-05-19T17:29:22.461408Z",
     "start_time": "2025-05-19T17:29:21.606767Z"
    }
   },
   "cell_type": "code",
   "source": "data['text'] = data['Title'] + \" \" + data['Body']",
   "id": "5629b214c1181a6a",
   "outputs": [],
   "execution_count": 15
  },
  {
   "metadata": {
    "ExecuteTime": {
     "end_time": "2025-05-19T17:29:23.479427Z",
     "start_time": "2025-05-19T17:29:22.476745Z"
    }
   },
   "cell_type": "code",
   "source": [
    "mlb = MultiLabelBinarizer()\n",
    "y = mlb.fit_transform(data['Tag'])"
   ],
   "id": "1387a2e1045917dc",
   "outputs": [],
   "execution_count": 16
  },
  {
   "metadata": {
    "ExecuteTime": {
     "end_time": "2025-05-19T17:30:36.057754Z",
     "start_time": "2025-05-19T17:29:23.490590Z"
    }
   },
   "cell_type": "code",
   "source": [
    "vectorizer = TfidfVectorizer(max_features=5000, stop_words='english')\n",
    "X = vectorizer.fit_transform(data['text'])"
   ],
   "id": "f5ffbf5b8a23ad53",
   "outputs": [],
   "execution_count": 17
  },
  {
   "metadata": {
    "ExecuteTime": {
     "end_time": "2025-05-19T17:30:36.628144Z",
     "start_time": "2025-05-19T17:30:36.094289Z"
    }
   },
   "cell_type": "code",
   "source": "X_train, X_test, y_train, y_test = train_test_split(X, y, test_size=0.2, random_state=42)",
   "id": "f8017c22bdc17e9e",
   "outputs": [],
   "execution_count": 18
  },
  {
   "metadata": {
    "ExecuteTime": {
     "end_time": "2025-05-19T17:39:50.235191Z",
     "start_time": "2025-05-19T17:30:36.639072Z"
    }
   },
   "cell_type": "code",
   "source": [
    "clf = OneVsRestClassifier(LogisticRegression(solver='liblinear'))\n",
    "clf.fit(X_train, y_train)"
   ],
   "id": "12148742a687fe8b",
   "outputs": [
    {
     "data": {
      "text/plain": [
       "OneVsRestClassifier(estimator=LogisticRegression(solver='liblinear'))"
      ],
      "text/html": [
       "<style>#sk-container-id-1 {\n",
       "  /* Definition of color scheme common for light and dark mode */\n",
       "  --sklearn-color-text: #000;\n",
       "  --sklearn-color-text-muted: #666;\n",
       "  --sklearn-color-line: gray;\n",
       "  /* Definition of color scheme for unfitted estimators */\n",
       "  --sklearn-color-unfitted-level-0: #fff5e6;\n",
       "  --sklearn-color-unfitted-level-1: #f6e4d2;\n",
       "  --sklearn-color-unfitted-level-2: #ffe0b3;\n",
       "  --sklearn-color-unfitted-level-3: chocolate;\n",
       "  /* Definition of color scheme for fitted estimators */\n",
       "  --sklearn-color-fitted-level-0: #f0f8ff;\n",
       "  --sklearn-color-fitted-level-1: #d4ebff;\n",
       "  --sklearn-color-fitted-level-2: #b3dbfd;\n",
       "  --sklearn-color-fitted-level-3: cornflowerblue;\n",
       "\n",
       "  /* Specific color for light theme */\n",
       "  --sklearn-color-text-on-default-background: var(--sg-text-color, var(--theme-code-foreground, var(--jp-content-font-color1, black)));\n",
       "  --sklearn-color-background: var(--sg-background-color, var(--theme-background, var(--jp-layout-color0, white)));\n",
       "  --sklearn-color-border-box: var(--sg-text-color, var(--theme-code-foreground, var(--jp-content-font-color1, black)));\n",
       "  --sklearn-color-icon: #696969;\n",
       "\n",
       "  @media (prefers-color-scheme: dark) {\n",
       "    /* Redefinition of color scheme for dark theme */\n",
       "    --sklearn-color-text-on-default-background: var(--sg-text-color, var(--theme-code-foreground, var(--jp-content-font-color1, white)));\n",
       "    --sklearn-color-background: var(--sg-background-color, var(--theme-background, var(--jp-layout-color0, #111)));\n",
       "    --sklearn-color-border-box: var(--sg-text-color, var(--theme-code-foreground, var(--jp-content-font-color1, white)));\n",
       "    --sklearn-color-icon: #878787;\n",
       "  }\n",
       "}\n",
       "\n",
       "#sk-container-id-1 {\n",
       "  color: var(--sklearn-color-text);\n",
       "}\n",
       "\n",
       "#sk-container-id-1 pre {\n",
       "  padding: 0;\n",
       "}\n",
       "\n",
       "#sk-container-id-1 input.sk-hidden--visually {\n",
       "  border: 0;\n",
       "  clip: rect(1px 1px 1px 1px);\n",
       "  clip: rect(1px, 1px, 1px, 1px);\n",
       "  height: 1px;\n",
       "  margin: -1px;\n",
       "  overflow: hidden;\n",
       "  padding: 0;\n",
       "  position: absolute;\n",
       "  width: 1px;\n",
       "}\n",
       "\n",
       "#sk-container-id-1 div.sk-dashed-wrapped {\n",
       "  border: 1px dashed var(--sklearn-color-line);\n",
       "  margin: 0 0.4em 0.5em 0.4em;\n",
       "  box-sizing: border-box;\n",
       "  padding-bottom: 0.4em;\n",
       "  background-color: var(--sklearn-color-background);\n",
       "}\n",
       "\n",
       "#sk-container-id-1 div.sk-container {\n",
       "  /* jupyter's `normalize.less` sets `[hidden] { display: none; }`\n",
       "     but bootstrap.min.css set `[hidden] { display: none !important; }`\n",
       "     so we also need the `!important` here to be able to override the\n",
       "     default hidden behavior on the sphinx rendered scikit-learn.org.\n",
       "     See: https://github.com/scikit-learn/scikit-learn/issues/21755 */\n",
       "  display: inline-block !important;\n",
       "  position: relative;\n",
       "}\n",
       "\n",
       "#sk-container-id-1 div.sk-text-repr-fallback {\n",
       "  display: none;\n",
       "}\n",
       "\n",
       "div.sk-parallel-item,\n",
       "div.sk-serial,\n",
       "div.sk-item {\n",
       "  /* draw centered vertical line to link estimators */\n",
       "  background-image: linear-gradient(var(--sklearn-color-text-on-default-background), var(--sklearn-color-text-on-default-background));\n",
       "  background-size: 2px 100%;\n",
       "  background-repeat: no-repeat;\n",
       "  background-position: center center;\n",
       "}\n",
       "\n",
       "/* Parallel-specific style estimator block */\n",
       "\n",
       "#sk-container-id-1 div.sk-parallel-item::after {\n",
       "  content: \"\";\n",
       "  width: 100%;\n",
       "  border-bottom: 2px solid var(--sklearn-color-text-on-default-background);\n",
       "  flex-grow: 1;\n",
       "}\n",
       "\n",
       "#sk-container-id-1 div.sk-parallel {\n",
       "  display: flex;\n",
       "  align-items: stretch;\n",
       "  justify-content: center;\n",
       "  background-color: var(--sklearn-color-background);\n",
       "  position: relative;\n",
       "}\n",
       "\n",
       "#sk-container-id-1 div.sk-parallel-item {\n",
       "  display: flex;\n",
       "  flex-direction: column;\n",
       "}\n",
       "\n",
       "#sk-container-id-1 div.sk-parallel-item:first-child::after {\n",
       "  align-self: flex-end;\n",
       "  width: 50%;\n",
       "}\n",
       "\n",
       "#sk-container-id-1 div.sk-parallel-item:last-child::after {\n",
       "  align-self: flex-start;\n",
       "  width: 50%;\n",
       "}\n",
       "\n",
       "#sk-container-id-1 div.sk-parallel-item:only-child::after {\n",
       "  width: 0;\n",
       "}\n",
       "\n",
       "/* Serial-specific style estimator block */\n",
       "\n",
       "#sk-container-id-1 div.sk-serial {\n",
       "  display: flex;\n",
       "  flex-direction: column;\n",
       "  align-items: center;\n",
       "  background-color: var(--sklearn-color-background);\n",
       "  padding-right: 1em;\n",
       "  padding-left: 1em;\n",
       "}\n",
       "\n",
       "\n",
       "/* Toggleable style: style used for estimator/Pipeline/ColumnTransformer box that is\n",
       "clickable and can be expanded/collapsed.\n",
       "- Pipeline and ColumnTransformer use this feature and define the default style\n",
       "- Estimators will overwrite some part of the style using the `sk-estimator` class\n",
       "*/\n",
       "\n",
       "/* Pipeline and ColumnTransformer style (default) */\n",
       "\n",
       "#sk-container-id-1 div.sk-toggleable {\n",
       "  /* Default theme specific background. It is overwritten whether we have a\n",
       "  specific estimator or a Pipeline/ColumnTransformer */\n",
       "  background-color: var(--sklearn-color-background);\n",
       "}\n",
       "\n",
       "/* Toggleable label */\n",
       "#sk-container-id-1 label.sk-toggleable__label {\n",
       "  cursor: pointer;\n",
       "  display: flex;\n",
       "  width: 100%;\n",
       "  margin-bottom: 0;\n",
       "  padding: 0.5em;\n",
       "  box-sizing: border-box;\n",
       "  text-align: center;\n",
       "  align-items: start;\n",
       "  justify-content: space-between;\n",
       "  gap: 0.5em;\n",
       "}\n",
       "\n",
       "#sk-container-id-1 label.sk-toggleable__label .caption {\n",
       "  font-size: 0.6rem;\n",
       "  font-weight: lighter;\n",
       "  color: var(--sklearn-color-text-muted);\n",
       "}\n",
       "\n",
       "#sk-container-id-1 label.sk-toggleable__label-arrow:before {\n",
       "  /* Arrow on the left of the label */\n",
       "  content: \"▸\";\n",
       "  float: left;\n",
       "  margin-right: 0.25em;\n",
       "  color: var(--sklearn-color-icon);\n",
       "}\n",
       "\n",
       "#sk-container-id-1 label.sk-toggleable__label-arrow:hover:before {\n",
       "  color: var(--sklearn-color-text);\n",
       "}\n",
       "\n",
       "/* Toggleable content - dropdown */\n",
       "\n",
       "#sk-container-id-1 div.sk-toggleable__content {\n",
       "  max-height: 0;\n",
       "  max-width: 0;\n",
       "  overflow: hidden;\n",
       "  text-align: left;\n",
       "  /* unfitted */\n",
       "  background-color: var(--sklearn-color-unfitted-level-0);\n",
       "}\n",
       "\n",
       "#sk-container-id-1 div.sk-toggleable__content.fitted {\n",
       "  /* fitted */\n",
       "  background-color: var(--sklearn-color-fitted-level-0);\n",
       "}\n",
       "\n",
       "#sk-container-id-1 div.sk-toggleable__content pre {\n",
       "  margin: 0.2em;\n",
       "  border-radius: 0.25em;\n",
       "  color: var(--sklearn-color-text);\n",
       "  /* unfitted */\n",
       "  background-color: var(--sklearn-color-unfitted-level-0);\n",
       "}\n",
       "\n",
       "#sk-container-id-1 div.sk-toggleable__content.fitted pre {\n",
       "  /* unfitted */\n",
       "  background-color: var(--sklearn-color-fitted-level-0);\n",
       "}\n",
       "\n",
       "#sk-container-id-1 input.sk-toggleable__control:checked~div.sk-toggleable__content {\n",
       "  /* Expand drop-down */\n",
       "  max-height: 200px;\n",
       "  max-width: 100%;\n",
       "  overflow: auto;\n",
       "}\n",
       "\n",
       "#sk-container-id-1 input.sk-toggleable__control:checked~label.sk-toggleable__label-arrow:before {\n",
       "  content: \"▾\";\n",
       "}\n",
       "\n",
       "/* Pipeline/ColumnTransformer-specific style */\n",
       "\n",
       "#sk-container-id-1 div.sk-label input.sk-toggleable__control:checked~label.sk-toggleable__label {\n",
       "  color: var(--sklearn-color-text);\n",
       "  background-color: var(--sklearn-color-unfitted-level-2);\n",
       "}\n",
       "\n",
       "#sk-container-id-1 div.sk-label.fitted input.sk-toggleable__control:checked~label.sk-toggleable__label {\n",
       "  background-color: var(--sklearn-color-fitted-level-2);\n",
       "}\n",
       "\n",
       "/* Estimator-specific style */\n",
       "\n",
       "/* Colorize estimator box */\n",
       "#sk-container-id-1 div.sk-estimator input.sk-toggleable__control:checked~label.sk-toggleable__label {\n",
       "  /* unfitted */\n",
       "  background-color: var(--sklearn-color-unfitted-level-2);\n",
       "}\n",
       "\n",
       "#sk-container-id-1 div.sk-estimator.fitted input.sk-toggleable__control:checked~label.sk-toggleable__label {\n",
       "  /* fitted */\n",
       "  background-color: var(--sklearn-color-fitted-level-2);\n",
       "}\n",
       "\n",
       "#sk-container-id-1 div.sk-label label.sk-toggleable__label,\n",
       "#sk-container-id-1 div.sk-label label {\n",
       "  /* The background is the default theme color */\n",
       "  color: var(--sklearn-color-text-on-default-background);\n",
       "}\n",
       "\n",
       "/* On hover, darken the color of the background */\n",
       "#sk-container-id-1 div.sk-label:hover label.sk-toggleable__label {\n",
       "  color: var(--sklearn-color-text);\n",
       "  background-color: var(--sklearn-color-unfitted-level-2);\n",
       "}\n",
       "\n",
       "/* Label box, darken color on hover, fitted */\n",
       "#sk-container-id-1 div.sk-label.fitted:hover label.sk-toggleable__label.fitted {\n",
       "  color: var(--sklearn-color-text);\n",
       "  background-color: var(--sklearn-color-fitted-level-2);\n",
       "}\n",
       "\n",
       "/* Estimator label */\n",
       "\n",
       "#sk-container-id-1 div.sk-label label {\n",
       "  font-family: monospace;\n",
       "  font-weight: bold;\n",
       "  display: inline-block;\n",
       "  line-height: 1.2em;\n",
       "}\n",
       "\n",
       "#sk-container-id-1 div.sk-label-container {\n",
       "  text-align: center;\n",
       "}\n",
       "\n",
       "/* Estimator-specific */\n",
       "#sk-container-id-1 div.sk-estimator {\n",
       "  font-family: monospace;\n",
       "  border: 1px dotted var(--sklearn-color-border-box);\n",
       "  border-radius: 0.25em;\n",
       "  box-sizing: border-box;\n",
       "  margin-bottom: 0.5em;\n",
       "  /* unfitted */\n",
       "  background-color: var(--sklearn-color-unfitted-level-0);\n",
       "}\n",
       "\n",
       "#sk-container-id-1 div.sk-estimator.fitted {\n",
       "  /* fitted */\n",
       "  background-color: var(--sklearn-color-fitted-level-0);\n",
       "}\n",
       "\n",
       "/* on hover */\n",
       "#sk-container-id-1 div.sk-estimator:hover {\n",
       "  /* unfitted */\n",
       "  background-color: var(--sklearn-color-unfitted-level-2);\n",
       "}\n",
       "\n",
       "#sk-container-id-1 div.sk-estimator.fitted:hover {\n",
       "  /* fitted */\n",
       "  background-color: var(--sklearn-color-fitted-level-2);\n",
       "}\n",
       "\n",
       "/* Specification for estimator info (e.g. \"i\" and \"?\") */\n",
       "\n",
       "/* Common style for \"i\" and \"?\" */\n",
       "\n",
       ".sk-estimator-doc-link,\n",
       "a:link.sk-estimator-doc-link,\n",
       "a:visited.sk-estimator-doc-link {\n",
       "  float: right;\n",
       "  font-size: smaller;\n",
       "  line-height: 1em;\n",
       "  font-family: monospace;\n",
       "  background-color: var(--sklearn-color-background);\n",
       "  border-radius: 1em;\n",
       "  height: 1em;\n",
       "  width: 1em;\n",
       "  text-decoration: none !important;\n",
       "  margin-left: 0.5em;\n",
       "  text-align: center;\n",
       "  /* unfitted */\n",
       "  border: var(--sklearn-color-unfitted-level-1) 1pt solid;\n",
       "  color: var(--sklearn-color-unfitted-level-1);\n",
       "}\n",
       "\n",
       ".sk-estimator-doc-link.fitted,\n",
       "a:link.sk-estimator-doc-link.fitted,\n",
       "a:visited.sk-estimator-doc-link.fitted {\n",
       "  /* fitted */\n",
       "  border: var(--sklearn-color-fitted-level-1) 1pt solid;\n",
       "  color: var(--sklearn-color-fitted-level-1);\n",
       "}\n",
       "\n",
       "/* On hover */\n",
       "div.sk-estimator:hover .sk-estimator-doc-link:hover,\n",
       ".sk-estimator-doc-link:hover,\n",
       "div.sk-label-container:hover .sk-estimator-doc-link:hover,\n",
       ".sk-estimator-doc-link:hover {\n",
       "  /* unfitted */\n",
       "  background-color: var(--sklearn-color-unfitted-level-3);\n",
       "  color: var(--sklearn-color-background);\n",
       "  text-decoration: none;\n",
       "}\n",
       "\n",
       "div.sk-estimator.fitted:hover .sk-estimator-doc-link.fitted:hover,\n",
       ".sk-estimator-doc-link.fitted:hover,\n",
       "div.sk-label-container:hover .sk-estimator-doc-link.fitted:hover,\n",
       ".sk-estimator-doc-link.fitted:hover {\n",
       "  /* fitted */\n",
       "  background-color: var(--sklearn-color-fitted-level-3);\n",
       "  color: var(--sklearn-color-background);\n",
       "  text-decoration: none;\n",
       "}\n",
       "\n",
       "/* Span, style for the box shown on hovering the info icon */\n",
       ".sk-estimator-doc-link span {\n",
       "  display: none;\n",
       "  z-index: 9999;\n",
       "  position: relative;\n",
       "  font-weight: normal;\n",
       "  right: .2ex;\n",
       "  padding: .5ex;\n",
       "  margin: .5ex;\n",
       "  width: min-content;\n",
       "  min-width: 20ex;\n",
       "  max-width: 50ex;\n",
       "  color: var(--sklearn-color-text);\n",
       "  box-shadow: 2pt 2pt 4pt #999;\n",
       "  /* unfitted */\n",
       "  background: var(--sklearn-color-unfitted-level-0);\n",
       "  border: .5pt solid var(--sklearn-color-unfitted-level-3);\n",
       "}\n",
       "\n",
       ".sk-estimator-doc-link.fitted span {\n",
       "  /* fitted */\n",
       "  background: var(--sklearn-color-fitted-level-0);\n",
       "  border: var(--sklearn-color-fitted-level-3);\n",
       "}\n",
       "\n",
       ".sk-estimator-doc-link:hover span {\n",
       "  display: block;\n",
       "}\n",
       "\n",
       "/* \"?\"-specific style due to the `<a>` HTML tag */\n",
       "\n",
       "#sk-container-id-1 a.estimator_doc_link {\n",
       "  float: right;\n",
       "  font-size: 1rem;\n",
       "  line-height: 1em;\n",
       "  font-family: monospace;\n",
       "  background-color: var(--sklearn-color-background);\n",
       "  border-radius: 1rem;\n",
       "  height: 1rem;\n",
       "  width: 1rem;\n",
       "  text-decoration: none;\n",
       "  /* unfitted */\n",
       "  color: var(--sklearn-color-unfitted-level-1);\n",
       "  border: var(--sklearn-color-unfitted-level-1) 1pt solid;\n",
       "}\n",
       "\n",
       "#sk-container-id-1 a.estimator_doc_link.fitted {\n",
       "  /* fitted */\n",
       "  border: var(--sklearn-color-fitted-level-1) 1pt solid;\n",
       "  color: var(--sklearn-color-fitted-level-1);\n",
       "}\n",
       "\n",
       "/* On hover */\n",
       "#sk-container-id-1 a.estimator_doc_link:hover {\n",
       "  /* unfitted */\n",
       "  background-color: var(--sklearn-color-unfitted-level-3);\n",
       "  color: var(--sklearn-color-background);\n",
       "  text-decoration: none;\n",
       "}\n",
       "\n",
       "#sk-container-id-1 a.estimator_doc_link.fitted:hover {\n",
       "  /* fitted */\n",
       "  background-color: var(--sklearn-color-fitted-level-3);\n",
       "}\n",
       "</style><div id=\"sk-container-id-1\" class=\"sk-top-container\"><div class=\"sk-text-repr-fallback\"><pre>OneVsRestClassifier(estimator=LogisticRegression(solver=&#x27;liblinear&#x27;))</pre><b>In a Jupyter environment, please rerun this cell to show the HTML representation or trust the notebook. <br />On GitHub, the HTML representation is unable to render, please try loading this page with nbviewer.org.</b></div><div class=\"sk-container\" hidden><div class=\"sk-item sk-dashed-wrapped\"><div class=\"sk-label-container\"><div class=\"sk-label fitted sk-toggleable\"><input class=\"sk-toggleable__control sk-hidden--visually\" id=\"sk-estimator-id-1\" type=\"checkbox\" ><label for=\"sk-estimator-id-1\" class=\"sk-toggleable__label fitted sk-toggleable__label-arrow\"><div><div>OneVsRestClassifier</div></div><div><a class=\"sk-estimator-doc-link fitted\" rel=\"noreferrer\" target=\"_blank\" href=\"https://scikit-learn.org/1.6/modules/generated/sklearn.multiclass.OneVsRestClassifier.html\">?<span>Documentation for OneVsRestClassifier</span></a><span class=\"sk-estimator-doc-link fitted\">i<span>Fitted</span></span></div></label><div class=\"sk-toggleable__content fitted\"><pre>OneVsRestClassifier(estimator=LogisticRegression(solver=&#x27;liblinear&#x27;))</pre></div> </div></div><div class=\"sk-parallel\"><div class=\"sk-parallel-item\"><div class=\"sk-item\"><div class=\"sk-label-container\"><div class=\"sk-label fitted sk-toggleable\"><input class=\"sk-toggleable__control sk-hidden--visually\" id=\"sk-estimator-id-2\" type=\"checkbox\" ><label for=\"sk-estimator-id-2\" class=\"sk-toggleable__label fitted sk-toggleable__label-arrow\"><div><div>estimator: LogisticRegression</div></div></label><div class=\"sk-toggleable__content fitted\"><pre>LogisticRegression(solver=&#x27;liblinear&#x27;)</pre></div> </div></div><div class=\"sk-serial\"><div class=\"sk-item\"><div class=\"sk-estimator fitted sk-toggleable\"><input class=\"sk-toggleable__control sk-hidden--visually\" id=\"sk-estimator-id-3\" type=\"checkbox\" ><label for=\"sk-estimator-id-3\" class=\"sk-toggleable__label fitted sk-toggleable__label-arrow\"><div><div>LogisticRegression</div></div><div><a class=\"sk-estimator-doc-link fitted\" rel=\"noreferrer\" target=\"_blank\" href=\"https://scikit-learn.org/1.6/modules/generated/sklearn.linear_model.LogisticRegression.html\">?<span>Documentation for LogisticRegression</span></a></div></label><div class=\"sk-toggleable__content fitted\"><pre>LogisticRegression(solver=&#x27;liblinear&#x27;)</pre></div> </div></div></div></div></div></div></div></div></div>"
      ]
     },
     "execution_count": 19,
     "metadata": {},
     "output_type": "execute_result"
    }
   ],
   "execution_count": 19
  },
  {
   "metadata": {
    "ExecuteTime": {
     "end_time": "2025-05-19T17:39:53.787751Z",
     "start_time": "2025-05-19T17:39:50.312525Z"
    }
   },
   "cell_type": "code",
   "source": [
    "y_pred = clf.predict(X_test)\n",
    "print(\"F1-score (micro):\", f1_score(y_test, y_pred, average='micro'))\n",
    "print(\"F1-score (macro):\", f1_score(y_test, y_pred, average='macro'))\n",
    "print(\"\\nReporte por etiqueta:\")\n",
    "print(classification_report(y_test, y_pred, target_names=mlb.classes_))"
   ],
   "id": "96869c7d5e0a886b",
   "outputs": [
    {
     "name": "stdout",
     "output_type": "stream",
     "text": [
      "F1-score (micro): 0.6465474924322998\n",
      "F1-score (macro): 0.5452340473960035\n",
      "\n",
      "Reporte por etiqueta:\n",
      "                    precision    recall  f1-score   support\n",
      "\n",
      "         .htaccess       0.90      0.77      0.83      1086\n",
      "              .net       0.53      0.09      0.16      4760\n",
      "              ajax       0.74      0.49      0.59      3120\n",
      "         algorithm       0.74      0.36      0.48      1295\n",
      "           android       0.97      0.85      0.91     18100\n",
      "         angularjs       0.96      0.83      0.89      4044\n",
      "            apache       0.71      0.41      0.52      1364\n",
      "               api       0.43      0.12      0.18       973\n",
      "            arrays       0.62      0.32      0.42      3980\n",
      "           asp.net       0.79      0.48      0.60      5955\n",
      "       asp.net-mvc       0.76      0.48      0.59      2812\n",
      "              bash       0.81      0.53      0.65      1602\n",
      "                 c       0.81      0.51      0.62      4673\n",
      "                c#       0.76      0.50      0.61     20188\n",
      "               c++       0.86      0.57      0.69      9547\n",
      "             class       0.33      0.05      0.08       912\n",
      "       codeigniter       0.94      0.63      0.75       985\n",
      "           cordova       0.91      0.67      0.77       945\n",
      "               css       0.81      0.65      0.72      8429\n",
      "              css3       0.66      0.16      0.25      1167\n",
      "          database       0.44      0.08      0.14      2369\n",
      "            django       0.97      0.85      0.90      2617\n",
      "           eclipse       0.80      0.52      0.63      1963\n",
      "  entity-framework       0.79      0.51      0.62      1182\n",
      "             excel       0.76      0.58      0.66      2086\n",
      "         excel-vba       0.70      0.50      0.58      1005\n",
      "          facebook       0.85      0.72      0.78      1571\n",
      "              file       0.28      0.03      0.06       987\n",
      "             forms       0.41      0.16      0.23      1537\n",
      "          function       0.32      0.05      0.09      1062\n",
      "               git       0.92      0.83      0.87      1469\n",
      "     google-chrome       0.68      0.41      0.51       869\n",
      "       google-maps       0.72      0.54      0.61       962\n",
      "         hibernate       0.87      0.69      0.76      1175\n",
      "              html       0.63      0.33      0.43     11966\n",
      "             html5       0.78      0.24      0.37      1939\n",
      "             image       0.39      0.11      0.18      1499\n",
      "               ios       0.76      0.59      0.66      9511\n",
      "            iphone       0.64      0.32      0.43      4226\n",
      "              java       0.83      0.63      0.71     22846\n",
      "        javascript       0.76      0.58      0.66     24880\n",
      "            jquery       0.86      0.68      0.76     15701\n",
      "              json       0.74      0.51      0.60      3473\n",
      "               jsp       0.82      0.48      0.61       923\n",
      "           laravel       0.82      0.54      0.65       987\n",
      "              linq       0.80      0.49      0.61      1229\n",
      "             linux       0.68      0.32      0.44      2752\n",
      "              list       0.50      0.18      0.26      1151\n",
      "            matlab       0.96      0.74      0.83      1245\n",
      "             maven       0.84      0.64      0.73       923\n",
      "           mongodb       0.92      0.76      0.83      1437\n",
      "    multithreading       0.70      0.45      0.55      1827\n",
      "             mysql       0.84      0.61      0.71      8471\n",
      "           node.js       0.87      0.64      0.74      2948\n",
      "       objective-c       0.63      0.36      0.46      5377\n",
      "            oracle       0.87      0.57      0.69      1530\n",
      "               osx       0.68      0.32      0.43      1416\n",
      "       performance       0.40      0.11      0.17      1304\n",
      "              perl       0.93      0.67      0.78      1065\n",
      "               php       0.87      0.70      0.78     19821\n",
      "        postgresql       0.90      0.54      0.67      1201\n",
      "            python       0.89      0.73      0.81     12999\n",
      "        python-2.7       0.30      0.01      0.02      1164\n",
      "        python-3.x       0.40      0.04      0.07       827\n",
      "                qt       0.90      0.60      0.72      1044\n",
      "                 r       0.92      0.60      0.73      3186\n",
      "             regex       0.87      0.66      0.75      3112\n",
      "              rest       0.70      0.36      0.47       979\n",
      "              ruby       0.71      0.41      0.52      3464\n",
      "     ruby-on-rails       0.87      0.67      0.76      5249\n",
      "   ruby-on-rails-3       0.22      0.04      0.07      1103\n",
      "             scala       0.93      0.70      0.80      1149\n",
      "             shell       0.64      0.32      0.43       982\n",
      "           sockets       0.67      0.44      0.53       844\n",
      "            spring       0.82      0.61      0.70      2051\n",
      "               sql       0.60      0.37      0.46      7085\n",
      "        sql-server       0.67      0.37      0.48      3680\n",
      "   sql-server-2008       0.48      0.10      0.17       952\n",
      "            sqlite       0.80      0.50      0.61      1061\n",
      "            string       0.45      0.14      0.22      2065\n",
      "             swift       0.91      0.66      0.76      2362\n",
      "             swing       0.77      0.55      0.64      1207\n",
      "          symfony2       0.89      0.64      0.74       860\n",
      "              tsql       0.32      0.03      0.06       854\n",
      " twitter-bootstrap       0.80      0.54      0.64      1390\n",
      "       uitableview       0.77      0.54      0.63       998\n",
      "      unit-testing       0.68      0.39      0.49       930\n",
      "        validation       0.53      0.27      0.35       879\n",
      "            vb.net       0.83      0.54      0.65      2032\n",
      "               vba       0.78      0.58      0.67      1330\n",
      "     visual-studio       0.53      0.21      0.30      1244\n",
      "visual-studio-2010       0.71      0.24      0.36       949\n",
      "               wcf       0.92      0.72      0.81       891\n",
      "      web-services       0.58      0.29      0.39      1024\n",
      "           windows       0.58      0.20      0.30      2013\n",
      "          winforms       0.60      0.24      0.34      1384\n",
      "         wordpress       0.92      0.72      0.80      1989\n",
      "               wpf       0.90      0.67      0.77      2441\n",
      "             xcode       0.69      0.30      0.41      2145\n",
      "               xml       0.75      0.48      0.59      2956\n",
      "\n",
      "         micro avg       0.81      0.54      0.65    351313\n",
      "         macro avg       0.72      0.46      0.55    351313\n",
      "      weighted avg       0.77      0.54      0.63    351313\n",
      "       samples avg       0.66      0.58      0.59    351313\n",
      "\n"
     ]
    }
   ],
   "execution_count": 20
  },
  {
   "metadata": {
    "ExecuteTime": {
     "end_time": "2025-05-19T17:39:56.633687Z",
     "start_time": "2025-05-19T17:39:53.798324Z"
    }
   },
   "cell_type": "code",
   "source": "print_score(y_pred, clf)",
   "id": "dd1a80c7b7751566",
   "outputs": [
    {
     "name": "stdout",
     "output_type": "stream",
     "text": [
      "Clf:  OneVsRestClassifier\n",
      "Accuracy score: 0.3564133600635473\n",
      "Recall score: 0.5398775450951147\n",
      "Precision score: 0.7749119482819207\n",
      "F1 score: 0.6742278588288858\n",
      "Jacard score: 53.12287792902084\n",
      "Hamming loss: 0.9805008132541513\n",
      "---\n"
     ]
    }
   ],
   "execution_count": 21
  },
  {
   "metadata": {
    "ExecuteTime": {
     "end_time": "2025-05-19T17:39:56.657750Z",
     "start_time": "2025-05-19T17:39:56.647234Z"
    }
   },
   "cell_type": "code",
   "source": [
    "new_title = \"Que es python y como lo podria integrar con SQL\"\n",
    "new_body = \"No entiendo como se hace en sql un update\"\n",
    "new_text = new_title.lower() + ' ' + new_body.lower()\n",
    "X_new = vectorizer.transform([new_text])\n",
    "y_new_pred = clf.predict(X_new)\n",
    "predicted_tags = mlb.inverse_transform(y_new_pred)\n",
    "print(\"Etiquetas predichas para el nuevo texto:\", predicted_tags)"
   ],
   "id": "c7255bf58f5b514a",
   "outputs": [
    {
     "name": "stdout",
     "output_type": "stream",
     "text": [
      "Etiquetas predichas para el nuevo texto: [('python', 'sql')]\n"
     ]
    }
   ],
   "execution_count": 22
  },
  {
   "metadata": {
    "ExecuteTime": {
     "end_time": "2025-05-19T17:39:56.755886Z",
     "start_time": "2025-05-19T17:39:56.685360Z"
    }
   },
   "cell_type": "code",
   "source": [
    "\n",
    "joblib.dump(clf, '../models/modelo_logreg.joblib')\n",
    "joblib.dump(vectorizer, '../models/vectorizer_tfidf.joblib')\n",
    "joblib.dump(mlb, '../models/multilabel_binarizer.joblib')"
   ],
   "id": "f203cc2ed7edf607",
   "outputs": [
    {
     "data": {
      "text/plain": [
       "['../models/multilabel_binarizer.joblib']"
      ]
     },
     "execution_count": 23,
     "metadata": {},
     "output_type": "execute_result"
    }
   ],
   "execution_count": 23
  }
 ],
 "metadata": {
  "kernelspec": {
   "display_name": "Python 3",
   "language": "python",
   "name": "python3"
  },
  "language_info": {
   "codemirror_mode": {
    "name": "ipython",
    "version": 2
   },
   "file_extension": ".py",
   "mimetype": "text/x-python",
   "name": "python",
   "nbconvert_exporter": "python",
   "pygments_lexer": "ipython2",
   "version": "2.7.6"
  }
 },
 "nbformat": 4,
 "nbformat_minor": 5
}
