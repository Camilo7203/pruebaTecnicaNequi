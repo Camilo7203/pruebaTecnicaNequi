{
 "cells": [
  {
   "cell_type": "markdown",
   "id": "925e5ada52413c72",
   "metadata": {},
   "source": [
    "# EDA Exploratory Data Analysis\n",
    "## DataSet StackSample: 10% of Stack Overflow Q&A\n",
    "https://www.kaggle.com/datasets/stackoverflow/stacksample\n",
    "\n",
    "### Motivacion\n",
    "Escogi este dataset porque es un dataset de preguntas y respuestas de temas tecnicos, en donde se puede hacer una solucion NLP con base a las tags que ya se tienen, para entrenar un modelo de clasificacion de texto.\n",
    "\n",
    "### Descripcion del data set\n",
    "El data set contiene 3 archivos que son:\n",
    "* **Questions.csv**: Contiene las preguntas de stackoverflow y tiene la siguiente estructura\n",
    "    * Id: Identificador de la pregunta\n",
    "    * OwnerUserId: Identificador del usuario que pregunta\n",
    "    * CreationDate: Fecha de creacion de la pregunta\n",
    "    * ClosedDate: Fecha de cierre de la pregunta\n",
    "    * Score: Puntuacion de la pregunta\n",
    "    * Title: Titulo de la pregunta\n",
    "    * Body: Cuerpo de la pregunta\n",
    "* **Answers.csv**: Contiene las respuestas de las preguntas y tiene la siguiente estructura\n",
    "    * Id: Identificador de la respuesta\n",
    "    * OwnerUserId: Identificador del usuario que responde\n",
    "    * CreationDate: Fecha de creacion de la respuesta\n",
    "    * ParentId: Identificador de la pregunta a la que responde\n",
    "    * Score: Puntuacion de la respuesta\n",
    "    * Body: Cuerpo de la respuesta\n",
    "* **Tags.csv**: Contiene las etiquetas de las preguntas y tiene la siguiente estructura\n",
    "    * Id: Identificador de la etiqueta\n",
    "    * Tag: Nombre de la etiqueta\n",
    "\n",
    "\n",
    "### Objetivo\n",
    "El objetivo de este notebook es hacer un analisis exploratorio de los datos, para ver que tipo de datos tenemos y como podemos utilizarlos para entrenar un modelo de clasificacion de texto."
   ]
  },
  {
   "cell_type": "markdown",
   "id": "85b3bdb6269c6843",
   "metadata": {},
   "source": [
    "### Importar librerias"
   ]
  },
  {
   "cell_type": "code",
   "id": "93c5fdf34794d3cf",
   "metadata": {
    "ExecuteTime": {
     "end_time": "2025-05-19T19:47:01.108428Z",
     "start_time": "2025-05-19T19:47:01.104326Z"
    }
   },
   "source": [
    "import pandas as pd\n",
    "import numpy as np\n",
    "import matplotlib.pyplot as plt\n",
    "import seaborn as sns\n",
    "from collections import Counter\n"
   ],
   "outputs": [],
   "execution_count": 45
  },
  {
   "cell_type": "markdown",
   "id": "eb883dbde36a6521",
   "metadata": {},
   "source": "### Definicion de funciones"
  },
  {
   "metadata": {
    "ExecuteTime": {
     "end_time": "2025-05-19T19:47:02.359615Z",
     "start_time": "2025-05-19T19:47:02.355612Z"
    }
   },
   "cell_type": "code",
   "source": [
    "def read_data(file_path):\n",
    "    \"\"\"\n",
    "    Lee un archivo CSV y lo carga en un DataFrame de pandas.\n",
    "\n",
    "    Parámetros\n",
    "    ----------\n",
    "    file_path: str\n",
    "        Ruta al archivo CSV que se desea leer.\n",
    "\n",
    "    Retorna\n",
    "    -------\n",
    "    pandas.DataFrame\n",
    "        DataFrame con los datos cargados desde el archivo CSV.\n",
    "    \"\"\"\n",
    "    data = pd.read_csv(file_path, encoding=\"ISO-8859-1\")\n",
    "    return data"
   ],
   "id": "42f398cc544a7ff6",
   "outputs": [],
   "execution_count": 46
  },
  {
   "metadata": {
    "ExecuteTime": {
     "end_time": "2025-05-19T19:47:03.582222Z",
     "start_time": "2025-05-19T19:47:03.578147Z"
    }
   },
   "cell_type": "code",
   "source": [
    "def get_dfs_info(*dfs):\n",
    "    \"\"\"\n",
    "    Muestra información básica de uno o varios DataFrames.\n",
    "\n",
    "    Parámetros\n",
    "    ----------\n",
    "    *dfs: pandas.DataFrame\n",
    "        Uno o varios DataFrames cuyos detalles se desean imprimir.\n",
    "\n",
    "    Comportamiento\n",
    "    -------------\n",
    "    Para cada DataFrame recibido, imprime:\n",
    "    - Un encabezado indicando el número de orden del DataFrame.\n",
    "    - La longitud (número de filas).\n",
    "    - El resultado de `df.info()` con resumen de columnas, tipos y memoria.\n",
    "    \"\"\"\n",
    "    for i, df in enumerate(dfs, 1):\n",
    "        print(f\"--- DataFrame {i} ---\")\n",
    "        print(\"length:\", len(df))\n",
    "        df.info()\n",
    "        print(\"\\n\")"
   ],
   "id": "9f7d02dbe4a290c1",
   "outputs": [],
   "execution_count": 47
  },
  {
   "metadata": {
    "ExecuteTime": {
     "end_time": "2025-05-19T19:47:04.830568Z",
     "start_time": "2025-05-19T19:47:04.823051Z"
    }
   },
   "cell_type": "code",
   "source": [
    "import pandas as pd\n",
    "\n",
    "def review_data_quality(questions, answers, tags):\n",
    "    \"\"\"\n",
    "    Revisa y reporta la calidad de tres DataFrames: preguntas, respuestas y etiquetas.\n",
    "\n",
    "    Parámetros\n",
    "    ----------\n",
    "    questions : pandas.DataFrame\n",
    "        DataFrame con las preguntas, debe incluir al menos la columna 'Title'.\n",
    "    answers : pandas.DataFrame\n",
    "        DataFrame con las respuestas.\n",
    "    tags : pandas.DataFrame\n",
    "        DataFrame con las etiquetas, debe incluir la columna 'Tag'.\n",
    "\n",
    "    Comportamiento\n",
    "    -------------\n",
    "    - Imprime el conteo de valores nulos en cada DataFrame y en 'Tag'.\n",
    "    - Elimina las filas de `tags` cuyo campo 'Tag' sea nulo.\n",
    "    - Calcula e imprime el número de filas duplicadas en cada DataFrame.\n",
    "    - Verifica y notifica si hay títulos repetidos en `questions['Title']`.\n",
    "\n",
    "    Retorna\n",
    "    -------\n",
    "    None\n",
    "\n",
    "    \"\"\"\n",
    "    print(\"Nulos en questions:\\n\", questions.isnull().sum())\n",
    "    print(\"\\nNulos en answers:\\n\", answers.isnull().sum())\n",
    "    print(\"\\nNulos en tags:\\n\", tags.isnull().sum())\n",
    "    nulos_tag_col = tags['Tag'].isnull().sum()\n",
    "    print(f\"\\nNulos en la columna 'Tag' de tags: {nulos_tag_col}\")\n",
    "\n",
    "    tags = tags.dropna(subset=['Tag'])\n",
    "\n",
    "    duplicated_questions = questions.duplicated().sum()\n",
    "    duplicated_answers = answers.duplicated().sum()\n",
    "    duplicated_tags = tags.duplicated().sum()\n",
    "    print(f\"\\nDuplicados en questions: {duplicated_questions}\")\n",
    "    print(f\"Duplicados en answers: {duplicated_answers}\")\n",
    "    print(f\"Duplicados en tags: {duplicated_tags}\")\n",
    "\n",
    "    duplicated_title = questions['Title'].duplicated().sum()\n",
    "    if duplicated_title > 0:\n",
    "        print(f\"\\nHay {duplicated_title} títulos repetidos en la columna Title.\")\n",
    "    else:\n",
    "        print(\"\\nNo hay títulos repetidos en la columna Title.\")"
   ],
   "id": "38d07cde6c909a8",
   "outputs": [],
   "execution_count": 48
  },
  {
   "metadata": {},
   "cell_type": "markdown",
   "source": "### Lectura de datos",
   "id": "43ef5a434d96e3b9"
  },
  {
   "metadata": {},
   "cell_type": "markdown",
   "source": [
    "Leemos los 3 data sets que vamos a utilizar para el analisis, que son:\n",
    "- **Questions.csv**: Contiene las preguntas de stackoverflow\n",
    "- **Answers.csv**: Contiene las respuestas de las preguntas\n",
    "- **Tags.csv**: Contiene las etiquetas de las preguntas\n",
    "\n",
    "Para esto utilizamos la funcion read_data que definimos anteriormente"
   ],
   "id": "2dbe8a7e540e7943"
  },
  {
   "metadata": {
    "ExecuteTime": {
     "end_time": "2025-05-19T19:47:28.081050Z",
     "start_time": "2025-05-19T19:47:06.057966Z"
    }
   },
   "cell_type": "code",
   "source": "questions = read_data('../data/input/Questions.csv')",
   "id": "ef2266a2531d49e2",
   "outputs": [],
   "execution_count": 49
  },
  {
   "metadata": {
    "ExecuteTime": {
     "end_time": "2025-05-19T19:47:51.330161Z",
     "start_time": "2025-05-19T19:47:29.199101Z"
    }
   },
   "cell_type": "code",
   "source": "answers = read_data('../data/input/Answers.csv')",
   "id": "6dda66f3e3a05f81",
   "outputs": [],
   "execution_count": 50
  },
  {
   "metadata": {
    "ExecuteTime": {
     "end_time": "2025-05-19T19:47:53.476069Z",
     "start_time": "2025-05-19T19:47:52.827222Z"
    }
   },
   "cell_type": "code",
   "source": "tags = read_data('../data/input/Tags.csv')",
   "id": "c88a25f5170c0cbd",
   "outputs": [],
   "execution_count": 51
  },
  {
   "cell_type": "markdown",
   "id": "f2474021b4b8176b",
   "metadata": {},
   "source": [
    "### Exploracion de datos"
   ]
  },
  {
   "metadata": {},
   "cell_type": "markdown",
   "source": "Utilizamos la funcion get_dfs_info para ver la estructura de los data sets y ver que tipo de datos tenemos",
   "id": "957aa0abf1d1f71"
  },
  {
   "cell_type": "code",
   "id": "8fec97178c32d690",
   "metadata": {
    "ExecuteTime": {
     "end_time": "2025-05-19T19:47:55.178416Z",
     "start_time": "2025-05-19T19:47:54.881003Z"
    }
   },
   "source": "get_dfs_info(questions, answers, tags)",
   "outputs": [
    {
     "name": "stdout",
     "output_type": "stream",
     "text": [
      "--- DataFrame 1 ---\n",
      "length: 1264216\n",
      "<class 'pandas.core.frame.DataFrame'>\n",
      "RangeIndex: 1264216 entries, 0 to 1264215\n",
      "Data columns (total 7 columns):\n",
      " #   Column        Non-Null Count    Dtype  \n",
      "---  ------        --------------    -----  \n",
      " 0   Id            1264216 non-null  int64  \n",
      " 1   OwnerUserId   1249762 non-null  float64\n",
      " 2   CreationDate  1264216 non-null  object \n",
      " 3   ClosedDate    55959 non-null    object \n",
      " 4   Score         1264216 non-null  int64  \n",
      " 5   Title         1264216 non-null  object \n",
      " 6   Body          1264216 non-null  object \n",
      "dtypes: float64(1), int64(2), object(4)\n",
      "memory usage: 67.5+ MB\n",
      "\n",
      "\n",
      "--- DataFrame 2 ---\n",
      "length: 2014516\n",
      "<class 'pandas.core.frame.DataFrame'>\n",
      "RangeIndex: 2014516 entries, 0 to 2014515\n",
      "Data columns (total 6 columns):\n",
      " #   Column        Dtype  \n",
      "---  ------        -----  \n",
      " 0   Id            int64  \n",
      " 1   OwnerUserId   float64\n",
      " 2   CreationDate  object \n",
      " 3   ParentId      int64  \n",
      " 4   Score         int64  \n",
      " 5   Body          object \n",
      "dtypes: float64(1), int64(3), object(2)\n",
      "memory usage: 92.2+ MB\n",
      "\n",
      "\n",
      "--- DataFrame 3 ---\n",
      "length: 3750994\n",
      "<class 'pandas.core.frame.DataFrame'>\n",
      "RangeIndex: 3750994 entries, 0 to 3750993\n",
      "Data columns (total 2 columns):\n",
      " #   Column  Dtype \n",
      "---  ------  ----- \n",
      " 0   Id      int64 \n",
      " 1   Tag     object\n",
      "dtypes: int64(1), object(1)\n",
      "memory usage: 57.2+ MB\n",
      "\n",
      "\n"
     ]
    }
   ],
   "execution_count": 52
  },
  {
   "metadata": {},
   "cell_type": "markdown",
   "source": "Exploramos los primeros valores del data set para ver que tipo de datos tenemos",
   "id": "187579437066b2ae"
  },
  {
   "cell_type": "code",
   "id": "1e03562ebfe4f3e4",
   "metadata": {
    "ExecuteTime": {
     "end_time": "2025-05-19T19:47:56.525351Z",
     "start_time": "2025-05-19T19:47:56.516347Z"
    }
   },
   "source": [
    "questions.head(10)"
   ],
   "outputs": [
    {
     "data": {
      "text/plain": [
       "    Id  OwnerUserId          CreationDate            ClosedDate  Score  \\\n",
       "0   80         26.0  2008-08-01T13:57:07Z                   NaN     26   \n",
       "1   90         58.0  2008-08-01T14:41:24Z  2012-12-26T03:45:49Z    144   \n",
       "2  120         83.0  2008-08-01T15:50:08Z                   NaN     21   \n",
       "3  180    2089740.0  2008-08-01T18:42:19Z                   NaN     53   \n",
       "4  260         91.0  2008-08-01T23:22:08Z                   NaN     49   \n",
       "5  330         63.0  2008-08-02T02:51:36Z                   NaN     29   \n",
       "6  470         71.0  2008-08-02T15:11:47Z  2016-03-26T05:23:29Z     13   \n",
       "7  580         91.0  2008-08-02T23:30:59Z                   NaN     21   \n",
       "8  650        143.0  2008-08-03T11:12:52Z                   NaN     79   \n",
       "9  810        233.0  2008-08-03T20:35:01Z                   NaN      9   \n",
       "\n",
       "                                               Title  \\\n",
       "0  SQLStatement.execute() - multiple queries in o...   \n",
       "1  Good branching and merging tutorials for Torto...   \n",
       "2                                  ASP.NET Site Maps   \n",
       "3                 Function for creating color wheels   \n",
       "4  Adding scripting functionality to .NET applica...   \n",
       "5          Should I use nested classes in this case?   \n",
       "6              Homegrown consumption of web services   \n",
       "7   Deploying SQL Server Databases from Test to Live   \n",
       "8                Automatically update version number   \n",
       "9  Visual Studio Setup Project - Per User Registr...   \n",
       "\n",
       "                                                Body  \n",
       "0  <p>I've written a database generation script i...  \n",
       "1  <p>Are there any really good tutorials explain...  \n",
       "2  <p>Has anyone got experience creating <strong>...  \n",
       "3  <p>This is something I've pseudo-solved many t...  \n",
       "4  <p>I have a little game written in C#. It uses...  \n",
       "5  <p>I am working on a collection of classes use...  \n",
       "6  <p>I've been writing a few web services for a ...  \n",
       "7  <p>I wonder how you guys manage deployment of ...  \n",
       "8  <p>I would like the version property of my app...  \n",
       "9  <p>I'm trying to maintain a Setup Project in <...  "
      ],
      "text/html": [
       "<div>\n",
       "<style scoped>\n",
       "    .dataframe tbody tr th:only-of-type {\n",
       "        vertical-align: middle;\n",
       "    }\n",
       "\n",
       "    .dataframe tbody tr th {\n",
       "        vertical-align: top;\n",
       "    }\n",
       "\n",
       "    .dataframe thead th {\n",
       "        text-align: right;\n",
       "    }\n",
       "</style>\n",
       "<table border=\"1\" class=\"dataframe\">\n",
       "  <thead>\n",
       "    <tr style=\"text-align: right;\">\n",
       "      <th></th>\n",
       "      <th>Id</th>\n",
       "      <th>OwnerUserId</th>\n",
       "      <th>CreationDate</th>\n",
       "      <th>ClosedDate</th>\n",
       "      <th>Score</th>\n",
       "      <th>Title</th>\n",
       "      <th>Body</th>\n",
       "    </tr>\n",
       "  </thead>\n",
       "  <tbody>\n",
       "    <tr>\n",
       "      <th>0</th>\n",
       "      <td>80</td>\n",
       "      <td>26.0</td>\n",
       "      <td>2008-08-01T13:57:07Z</td>\n",
       "      <td>NaN</td>\n",
       "      <td>26</td>\n",
       "      <td>SQLStatement.execute() - multiple queries in o...</td>\n",
       "      <td>&lt;p&gt;I've written a database generation script i...</td>\n",
       "    </tr>\n",
       "    <tr>\n",
       "      <th>1</th>\n",
       "      <td>90</td>\n",
       "      <td>58.0</td>\n",
       "      <td>2008-08-01T14:41:24Z</td>\n",
       "      <td>2012-12-26T03:45:49Z</td>\n",
       "      <td>144</td>\n",
       "      <td>Good branching and merging tutorials for Torto...</td>\n",
       "      <td>&lt;p&gt;Are there any really good tutorials explain...</td>\n",
       "    </tr>\n",
       "    <tr>\n",
       "      <th>2</th>\n",
       "      <td>120</td>\n",
       "      <td>83.0</td>\n",
       "      <td>2008-08-01T15:50:08Z</td>\n",
       "      <td>NaN</td>\n",
       "      <td>21</td>\n",
       "      <td>ASP.NET Site Maps</td>\n",
       "      <td>&lt;p&gt;Has anyone got experience creating &lt;strong&gt;...</td>\n",
       "    </tr>\n",
       "    <tr>\n",
       "      <th>3</th>\n",
       "      <td>180</td>\n",
       "      <td>2089740.0</td>\n",
       "      <td>2008-08-01T18:42:19Z</td>\n",
       "      <td>NaN</td>\n",
       "      <td>53</td>\n",
       "      <td>Function for creating color wheels</td>\n",
       "      <td>&lt;p&gt;This is something I've pseudo-solved many t...</td>\n",
       "    </tr>\n",
       "    <tr>\n",
       "      <th>4</th>\n",
       "      <td>260</td>\n",
       "      <td>91.0</td>\n",
       "      <td>2008-08-01T23:22:08Z</td>\n",
       "      <td>NaN</td>\n",
       "      <td>49</td>\n",
       "      <td>Adding scripting functionality to .NET applica...</td>\n",
       "      <td>&lt;p&gt;I have a little game written in C#. It uses...</td>\n",
       "    </tr>\n",
       "    <tr>\n",
       "      <th>5</th>\n",
       "      <td>330</td>\n",
       "      <td>63.0</td>\n",
       "      <td>2008-08-02T02:51:36Z</td>\n",
       "      <td>NaN</td>\n",
       "      <td>29</td>\n",
       "      <td>Should I use nested classes in this case?</td>\n",
       "      <td>&lt;p&gt;I am working on a collection of classes use...</td>\n",
       "    </tr>\n",
       "    <tr>\n",
       "      <th>6</th>\n",
       "      <td>470</td>\n",
       "      <td>71.0</td>\n",
       "      <td>2008-08-02T15:11:47Z</td>\n",
       "      <td>2016-03-26T05:23:29Z</td>\n",
       "      <td>13</td>\n",
       "      <td>Homegrown consumption of web services</td>\n",
       "      <td>&lt;p&gt;I've been writing a few web services for a ...</td>\n",
       "    </tr>\n",
       "    <tr>\n",
       "      <th>7</th>\n",
       "      <td>580</td>\n",
       "      <td>91.0</td>\n",
       "      <td>2008-08-02T23:30:59Z</td>\n",
       "      <td>NaN</td>\n",
       "      <td>21</td>\n",
       "      <td>Deploying SQL Server Databases from Test to Live</td>\n",
       "      <td>&lt;p&gt;I wonder how you guys manage deployment of ...</td>\n",
       "    </tr>\n",
       "    <tr>\n",
       "      <th>8</th>\n",
       "      <td>650</td>\n",
       "      <td>143.0</td>\n",
       "      <td>2008-08-03T11:12:52Z</td>\n",
       "      <td>NaN</td>\n",
       "      <td>79</td>\n",
       "      <td>Automatically update version number</td>\n",
       "      <td>&lt;p&gt;I would like the version property of my app...</td>\n",
       "    </tr>\n",
       "    <tr>\n",
       "      <th>9</th>\n",
       "      <td>810</td>\n",
       "      <td>233.0</td>\n",
       "      <td>2008-08-03T20:35:01Z</td>\n",
       "      <td>NaN</td>\n",
       "      <td>9</td>\n",
       "      <td>Visual Studio Setup Project - Per User Registr...</td>\n",
       "      <td>&lt;p&gt;I'm trying to maintain a Setup Project in &lt;...</td>\n",
       "    </tr>\n",
       "  </tbody>\n",
       "</table>\n",
       "</div>"
      ]
     },
     "execution_count": 53,
     "metadata": {},
     "output_type": "execute_result"
    }
   ],
   "execution_count": 53
  },
  {
   "cell_type": "code",
   "id": "313bfe3e6b7be29c",
   "metadata": {
    "ExecuteTime": {
     "end_time": "2025-05-19T19:47:57.899643Z",
     "start_time": "2025-05-19T19:47:57.892243Z"
    }
   },
   "source": [
    "answers.head(10)"
   ],
   "outputs": [
    {
     "data": {
      "text/plain": [
       "    Id  OwnerUserId          CreationDate  ParentId  Score  \\\n",
       "0   92         61.0  2008-08-01T14:45:37Z        90     13   \n",
       "1  124         26.0  2008-08-01T16:09:47Z        80     12   \n",
       "2  199         50.0  2008-08-01T19:36:46Z       180      1   \n",
       "3  269         91.0  2008-08-01T23:49:57Z       260      4   \n",
       "4  307         49.0  2008-08-02T01:49:46Z       260     28   \n",
       "5  332         59.0  2008-08-02T03:00:24Z       330     19   \n",
       "6  344        100.0  2008-08-02T04:18:15Z       260      6   \n",
       "7  359        119.0  2008-08-02T06:16:23Z       260      5   \n",
       "8  473         49.0  2008-08-02T15:33:13Z       470      8   \n",
       "9  529         86.0  2008-08-02T18:16:07Z       180      3   \n",
       "\n",
       "                                                Body  \n",
       "0  <p><a href=\"http://svnbook.red-bean.com/\">Vers...  \n",
       "1  <p>I wound up using this. It is a kind of a ha...  \n",
       "2  <p>I've read somewhere the human eye can't dis...  \n",
       "3  <p>Yes, I thought about that, but I soon figur...  \n",
       "4  <p><a href=\"http://www.codeproject.com/Article...  \n",
       "5  <p>I would be a bit reluctant to use nested cl...  \n",
       "6  <p>You might be able to use IronRuby for that....  \n",
       "7  <P>You could use any of the DLR languages, whi...  \n",
       "8  <p>No, what you're doing is fine. Don't let th...  \n",
       "9  <p>Isn't it also a factor which order you set ...  "
      ],
      "text/html": [
       "<div>\n",
       "<style scoped>\n",
       "    .dataframe tbody tr th:only-of-type {\n",
       "        vertical-align: middle;\n",
       "    }\n",
       "\n",
       "    .dataframe tbody tr th {\n",
       "        vertical-align: top;\n",
       "    }\n",
       "\n",
       "    .dataframe thead th {\n",
       "        text-align: right;\n",
       "    }\n",
       "</style>\n",
       "<table border=\"1\" class=\"dataframe\">\n",
       "  <thead>\n",
       "    <tr style=\"text-align: right;\">\n",
       "      <th></th>\n",
       "      <th>Id</th>\n",
       "      <th>OwnerUserId</th>\n",
       "      <th>CreationDate</th>\n",
       "      <th>ParentId</th>\n",
       "      <th>Score</th>\n",
       "      <th>Body</th>\n",
       "    </tr>\n",
       "  </thead>\n",
       "  <tbody>\n",
       "    <tr>\n",
       "      <th>0</th>\n",
       "      <td>92</td>\n",
       "      <td>61.0</td>\n",
       "      <td>2008-08-01T14:45:37Z</td>\n",
       "      <td>90</td>\n",
       "      <td>13</td>\n",
       "      <td>&lt;p&gt;&lt;a href=\"http://svnbook.red-bean.com/\"&gt;Vers...</td>\n",
       "    </tr>\n",
       "    <tr>\n",
       "      <th>1</th>\n",
       "      <td>124</td>\n",
       "      <td>26.0</td>\n",
       "      <td>2008-08-01T16:09:47Z</td>\n",
       "      <td>80</td>\n",
       "      <td>12</td>\n",
       "      <td>&lt;p&gt;I wound up using this. It is a kind of a ha...</td>\n",
       "    </tr>\n",
       "    <tr>\n",
       "      <th>2</th>\n",
       "      <td>199</td>\n",
       "      <td>50.0</td>\n",
       "      <td>2008-08-01T19:36:46Z</td>\n",
       "      <td>180</td>\n",
       "      <td>1</td>\n",
       "      <td>&lt;p&gt;I've read somewhere the human eye can't dis...</td>\n",
       "    </tr>\n",
       "    <tr>\n",
       "      <th>3</th>\n",
       "      <td>269</td>\n",
       "      <td>91.0</td>\n",
       "      <td>2008-08-01T23:49:57Z</td>\n",
       "      <td>260</td>\n",
       "      <td>4</td>\n",
       "      <td>&lt;p&gt;Yes, I thought about that, but I soon figur...</td>\n",
       "    </tr>\n",
       "    <tr>\n",
       "      <th>4</th>\n",
       "      <td>307</td>\n",
       "      <td>49.0</td>\n",
       "      <td>2008-08-02T01:49:46Z</td>\n",
       "      <td>260</td>\n",
       "      <td>28</td>\n",
       "      <td>&lt;p&gt;&lt;a href=\"http://www.codeproject.com/Article...</td>\n",
       "    </tr>\n",
       "    <tr>\n",
       "      <th>5</th>\n",
       "      <td>332</td>\n",
       "      <td>59.0</td>\n",
       "      <td>2008-08-02T03:00:24Z</td>\n",
       "      <td>330</td>\n",
       "      <td>19</td>\n",
       "      <td>&lt;p&gt;I would be a bit reluctant to use nested cl...</td>\n",
       "    </tr>\n",
       "    <tr>\n",
       "      <th>6</th>\n",
       "      <td>344</td>\n",
       "      <td>100.0</td>\n",
       "      <td>2008-08-02T04:18:15Z</td>\n",
       "      <td>260</td>\n",
       "      <td>6</td>\n",
       "      <td>&lt;p&gt;You might be able to use IronRuby for that....</td>\n",
       "    </tr>\n",
       "    <tr>\n",
       "      <th>7</th>\n",
       "      <td>359</td>\n",
       "      <td>119.0</td>\n",
       "      <td>2008-08-02T06:16:23Z</td>\n",
       "      <td>260</td>\n",
       "      <td>5</td>\n",
       "      <td>&lt;P&gt;You could use any of the DLR languages, whi...</td>\n",
       "    </tr>\n",
       "    <tr>\n",
       "      <th>8</th>\n",
       "      <td>473</td>\n",
       "      <td>49.0</td>\n",
       "      <td>2008-08-02T15:33:13Z</td>\n",
       "      <td>470</td>\n",
       "      <td>8</td>\n",
       "      <td>&lt;p&gt;No, what you're doing is fine. Don't let th...</td>\n",
       "    </tr>\n",
       "    <tr>\n",
       "      <th>9</th>\n",
       "      <td>529</td>\n",
       "      <td>86.0</td>\n",
       "      <td>2008-08-02T18:16:07Z</td>\n",
       "      <td>180</td>\n",
       "      <td>3</td>\n",
       "      <td>&lt;p&gt;Isn't it also a factor which order you set ...</td>\n",
       "    </tr>\n",
       "  </tbody>\n",
       "</table>\n",
       "</div>"
      ]
     },
     "execution_count": 54,
     "metadata": {},
     "output_type": "execute_result"
    }
   ],
   "execution_count": 54
  },
  {
   "cell_type": "code",
   "id": "12ac88f1a08f02d5",
   "metadata": {
    "ExecuteTime": {
     "end_time": "2025-05-19T19:47:59.363668Z",
     "start_time": "2025-05-19T19:47:59.358409Z"
    }
   },
   "source": [
    "tags.head(10)"
   ],
   "outputs": [
    {
     "data": {
      "text/plain": [
       "    Id                    Tag\n",
       "0   80                   flex\n",
       "1   80         actionscript-3\n",
       "2   80                    air\n",
       "3   90                    svn\n",
       "4   90            tortoisesvn\n",
       "5   90                 branch\n",
       "6   90  branching-and-merging\n",
       "7  120                    sql\n",
       "8  120                asp.net\n",
       "9  120                sitemap"
      ],
      "text/html": [
       "<div>\n",
       "<style scoped>\n",
       "    .dataframe tbody tr th:only-of-type {\n",
       "        vertical-align: middle;\n",
       "    }\n",
       "\n",
       "    .dataframe tbody tr th {\n",
       "        vertical-align: top;\n",
       "    }\n",
       "\n",
       "    .dataframe thead th {\n",
       "        text-align: right;\n",
       "    }\n",
       "</style>\n",
       "<table border=\"1\" class=\"dataframe\">\n",
       "  <thead>\n",
       "    <tr style=\"text-align: right;\">\n",
       "      <th></th>\n",
       "      <th>Id</th>\n",
       "      <th>Tag</th>\n",
       "    </tr>\n",
       "  </thead>\n",
       "  <tbody>\n",
       "    <tr>\n",
       "      <th>0</th>\n",
       "      <td>80</td>\n",
       "      <td>flex</td>\n",
       "    </tr>\n",
       "    <tr>\n",
       "      <th>1</th>\n",
       "      <td>80</td>\n",
       "      <td>actionscript-3</td>\n",
       "    </tr>\n",
       "    <tr>\n",
       "      <th>2</th>\n",
       "      <td>80</td>\n",
       "      <td>air</td>\n",
       "    </tr>\n",
       "    <tr>\n",
       "      <th>3</th>\n",
       "      <td>90</td>\n",
       "      <td>svn</td>\n",
       "    </tr>\n",
       "    <tr>\n",
       "      <th>4</th>\n",
       "      <td>90</td>\n",
       "      <td>tortoisesvn</td>\n",
       "    </tr>\n",
       "    <tr>\n",
       "      <th>5</th>\n",
       "      <td>90</td>\n",
       "      <td>branch</td>\n",
       "    </tr>\n",
       "    <tr>\n",
       "      <th>6</th>\n",
       "      <td>90</td>\n",
       "      <td>branching-and-merging</td>\n",
       "    </tr>\n",
       "    <tr>\n",
       "      <th>7</th>\n",
       "      <td>120</td>\n",
       "      <td>sql</td>\n",
       "    </tr>\n",
       "    <tr>\n",
       "      <th>8</th>\n",
       "      <td>120</td>\n",
       "      <td>asp.net</td>\n",
       "    </tr>\n",
       "    <tr>\n",
       "      <th>9</th>\n",
       "      <td>120</td>\n",
       "      <td>sitemap</td>\n",
       "    </tr>\n",
       "  </tbody>\n",
       "</table>\n",
       "</div>"
      ]
     },
     "execution_count": 55,
     "metadata": {},
     "output_type": "execute_result"
    }
   ],
   "execution_count": 55
  },
  {
   "metadata": {},
   "cell_type": "markdown",
   "source": "Vamos a revisar como se comportan los tags en el data set",
   "id": "37da7fb4e9f6d1af"
  },
  {
   "metadata": {},
   "cell_type": "code",
   "outputs": [],
   "execution_count": null,
   "source": "grouped_tags = tags.dropna(subset=['Tag']).groupby('Id')['Tag'].apply(list).reset_index()",
   "id": "5efa8024e19dcc80"
  },
  {
   "metadata": {},
   "cell_type": "code",
   "outputs": [],
   "execution_count": null,
   "source": [
    "all_tags = [tag for sublist in grouped_tags['Tag'] for tag in sublist]\n",
    "tag_counts = Counter(all_tags)"
   ],
   "id": "34814287aaffe0a5"
  },
  {
   "metadata": {},
   "cell_type": "code",
   "outputs": [],
   "execution_count": null,
   "source": "top_tags = pd.DataFrame(tag_counts.most_common(20), columns=['Tag', 'Count'])",
   "id": "d6fdacc97f5932d3"
  },
  {
   "metadata": {},
   "cell_type": "code",
   "outputs": [],
   "execution_count": null,
   "source": [
    "plt.figure(figsize=(12, 8))\n",
    "sns.barplot(x='Count', y='Tag', data=top_tags)\n",
    "plt.title('Top 20 etiquetas más frecuentes')\n",
    "plt.xlabel('Frecuencia')\n",
    "plt.ylabel('Etiqueta')\n",
    "plt.tight_layout()\n",
    "plt.show()"
   ],
   "id": "55cb42a59c7d69aa"
  },
  {
   "metadata": {},
   "cell_type": "code",
   "outputs": [],
   "execution_count": null,
   "source": "grouped_tags['TagCount'] = grouped_tags['Tag'].apply(len)",
   "id": "55bd80f966e58242"
  },
  {
   "metadata": {
    "ExecuteTime": {
     "end_time": "2025-05-19T19:48:18.679093Z",
     "start_time": "2025-05-19T19:48:02.209582Z"
    }
   },
   "cell_type": "code",
   "source": [
    "plt.figure(figsize=(10, 6))\n",
    "sns.countplot(x='TagCount', data=grouped_tags)\n",
    "plt.title('Número de etiquetas por pregunta')\n",
    "plt.xlabel('Número de etiquetas')\n",
    "plt.ylabel('Número de preguntas')\n",
    "plt.show()"
   ],
   "id": "36e001417acf87ae",
   "outputs": [
    {
     "data": {
      "text/plain": [
       "<Figure size 1200x800 with 1 Axes>"
      ],
      "image/png": "[encoded data removed]"
     },
     "metadata": {},
     "output_type": "display_data"
    },
    {
     "data": {
      "text/plain": [
       "<Figure size 1000x600 with 1 Axes>"
      ],
      "image/png": "[encoded data removed]"
     },
     "metadata": {},
     "output_type": "display_data"
    }
   ],
   "execution_count": 56
  },
  {
   "cell_type": "markdown",
   "id": "a62ffa9f",
   "metadata": {},
   "source": [
    "### Revision de la calidad de datos"
   ]
  },
  {
   "metadata": {},
   "cell_type": "markdown",
   "source": "Vamos a revisar la calidad de los datos para poder tomar decisiones de como vamos a trabajar con ellos\n",
   "id": "9c3093cb27f0582d"
  },
  {
   "metadata": {
    "ExecuteTime": {
     "end_time": "2025-05-19T19:48:31.857342Z",
     "start_time": "2025-05-19T19:48:20.827880Z"
    }
   },
   "cell_type": "code",
   "source": "review_data_quality(questions, answers, tags)",
   "id": "6e57c3aaf1ca1f6a",
   "outputs": [
    {
     "name": "stdout",
     "output_type": "stream",
     "text": [
      "Nulos en questions:\n",
      " Id                    0\n",
      "OwnerUserId       14454\n",
      "CreationDate          0\n",
      "ClosedDate      1208257\n",
      "Score                 0\n",
      "Title                 0\n",
      "Body                  0\n",
      "dtype: int64\n",
      "\n",
      "Nulos en answers:\n",
      " Id                  0\n",
      "OwnerUserId     13200\n",
      "CreationDate        0\n",
      "ParentId            0\n",
      "Score               0\n",
      "Body                0\n",
      "dtype: int64\n",
      "\n",
      "Nulos en tags:\n",
      " Id        0\n",
      "Tag    1113\n",
      "dtype: int64\n",
      "\n",
      "Nulos en la columna 'Tag' de tags: 1113\n",
      "\n",
      "Duplicados en questions: 0\n",
      "Duplicados en answers: 0\n",
      "Duplicados en tags: 0\n",
      "\n",
      "Hay 221 títulos repetidos en la columna Title.\n"
     ]
    }
   ],
   "execution_count": 57
  },
  {
   "metadata": {
    "ExecuteTime": {
     "end_time": "2025-05-19T19:48:34.428124Z",
     "start_time": "2025-05-19T19:48:34.173347Z"
    }
   },
   "cell_type": "code",
   "source": "questions.isnull().sum()",
   "id": "6aca82c64314d449",
   "outputs": [
    {
     "data": {
      "text/plain": [
       "Id                    0\n",
       "OwnerUserId       14454\n",
       "CreationDate          0\n",
       "ClosedDate      1208257\n",
       "Score                 0\n",
       "Title                 0\n",
       "Body                  0\n",
       "dtype: int64"
      ]
     },
     "execution_count": 58,
     "metadata": {},
     "output_type": "execute_result"
    }
   ],
   "execution_count": 58
  },
  {
   "cell_type": "markdown",
   "id": "b3627edca95f15eb",
   "metadata": {},
   "source": [
    "### Informacion relevante de los dataframes\n",
    "Despues de ver los dataframes, podemos concluir la siguiente informacion:\n",
    "- **Questions.csv** tiene 3 columnas que son importantes para nuestro analisis, que son:\n",
    "\t- Id: Identificador de la pregunta\n",
    "\t- Title: Titulo de la pregunta\n",
    "\t- Body: Cuerpo de la pregunta\n",
    "- Las demas columnas no son relevantes para nuestro analisis, porque:\n",
    "\t- OwnerUserId: No es relevante porque no nos interesa saber quien hizo la pregunta\n",
    "\t- CreationDate: No es relevante porque no nos interesa saber cuando se hizo la pregunta\n",
    "\t- ClosedDate: No es relevante porque no nos interesa saber cuando se cerro la pregunta\n",
    "\t- Score: No es relevante porque no nos interesa saber la puntuacion de la pregunta\n",
    "- **Tags.csv** las 2 columnas  son importantes para nuestro analisis:\n",
    "\t- Id: Identificador de la etiqueta\n",
    "\t- Tag: Nombre de la etiqueta"
   ]
  },
  {
   "cell_type": "markdown",
   "id": "ee2581e8",
   "metadata": {},
   "source": [
    "### Conclusion\n",
    "Despues de ver la estructura y toda la informacion de el data set, vamos a hacer uso de los archivos **Questions.csv** y el de **Tags.csv**, ya que son las que nos sirve para realizar un analisis de las tags por preguntas, como proximos pasos se podria validad como se comportaria el modelo agregando la iunformacion de **Answers.csv**"
   ]
  }
 ],
 "metadata": {
  "kernelspec": {
   "display_name": "Python [conda env:base] *",
   "language": "python",
   "name": "conda-base-py"
  },
  "language_info": {
   "codemirror_mode": {
    "name": "ipython",
    "version": 2
   },
   "file_extension": ".py",
   "mimetype": "text/x-python",
   "name": "python",
   "nbconvert_exporter": "python",
   "pygments_lexer": "ipython2",
   "version": "2.7.6"
  }
 },
 "nbformat": 4,
 "nbformat_minor": 5
}
