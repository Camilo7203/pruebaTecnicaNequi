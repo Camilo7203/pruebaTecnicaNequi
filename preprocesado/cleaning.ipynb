{
 "cells": [
  {
   "metadata": {},
   "cell_type": "markdown",
   "source": [
    "# Cleaning\n",
    "\n",
    "### Motivacion\n",
    "Dejar los datos en un archivo parquet para poder ser utilizados en el modelo de clasificacion de texto, para eso se eliminan las columnas que no son relevantes y se limpian los textos para que sean mas faciles de procesar."
   ],
   "id": "27689387f1e469dc"
  },
  {
   "metadata": {},
   "cell_type": "markdown",
   "source": "### Importar librerias",
   "id": "85b3bdb6269c6843"
  },
  {
   "metadata": {
    "ExecuteTime": {
     "end_time": "2025-05-19T19:46:23.116897Z",
     "start_time": "2025-05-19T19:46:23.113504Z"
    }
   },
   "cell_type": "code",
   "source": [
    "import pandas as pd\n",
    "from bs4 import BeautifulSoup\n",
    "import re\n",
    "import nltk"
   ],
   "id": "93c5fdf34794d3cf",
   "outputs": [],
   "execution_count": 58
  },
  {
   "metadata": {},
   "cell_type": "markdown",
   "source": "### Definicion de funciones",
   "id": "eb883dbde36a6521"
  },
  {
   "metadata": {
    "ExecuteTime": {
     "end_time": "2025-05-19T19:46:23.131050Z",
     "start_time": "2025-05-19T19:46:23.127797Z"
    }
   },
   "cell_type": "code",
   "source": [
    "def read_data(file_path):\n",
    "    \"\"\"\n",
    "    Lee un archivo CSV y lo carga en un DataFrame de pandas.\n",
    "\n",
    "    Parámetros\n",
    "    ----------\n",
    "    file_path: str\n",
    "        Ruta al archivo CSV que se desea leer.\n",
    "\n",
    "    Retorna\n",
    "    -------\n",
    "    pandas.DataFrame\n",
    "        DataFrame con los datos cargados desde el archivo CSV.\n",
    "    \"\"\"\n",
    "    data = pd.read_csv(file_path, encoding=\"ISO-8859-1\")\n",
    "    return data"
   ],
   "id": "e6e78c590c651dde",
   "outputs": [],
   "execution_count": 59
  },
  {
   "metadata": {
    "ExecuteTime": {
     "end_time": "2025-05-19T19:46:23.150033Z",
     "start_time": "2025-05-19T19:46:23.146931Z"
    }
   },
   "cell_type": "code",
   "source": [
    "def drop_columns(df, columns):\n",
    "    \"\"\"\n",
    "    Elimina una o varias columnas de un DataFrame de pandas.\n",
    "\n",
    "    Parámetros\n",
    "    ----------\n",
    "    df: pandas.DataFrame\n",
    "        DataFrame del cual se eliminarán las columnas.\n",
    "    columns: str o list de str\n",
    "        Nombre o lista de nombres de las columnas a eliminar del DataFrame.\n",
    "\n",
    "    Retorna\n",
    "    -------\n",
    "    pandas.DataFrame\n",
    "        El mismo DataFrame después de eliminar las columnas indicadas.\n",
    "    \"\"\"\n",
    "    df.drop(columns=columns, inplace=True)\n",
    "    return df"
   ],
   "id": "c4e6e37bc397e9d6",
   "outputs": [],
   "execution_count": 60
  },
  {
   "metadata": {
    "ExecuteTime": {
     "end_time": "2025-05-19T19:46:23.167262Z",
     "start_time": "2025-05-19T19:46:23.163407Z"
    }
   },
   "cell_type": "code",
   "source": [
    "def merge_datasets(df_left, df_right, merge_column):\n",
    "    \"\"\"\n",
    "    Combina dos DataFrames de pandas mediante un join interno sobre una columna común.\n",
    "\n",
    "    Parámetros\n",
    "    ----------\n",
    "    df_left: pandas.DataFrame\n",
    "        DataFrame izquierdo en la operación de merge.\n",
    "    df_right: pandas.DataFrame\n",
    "        DataFrame derecho en la operación de merge.\n",
    "    merge_column: str\n",
    "        Nombre de la columna sobre la cual se realizará la combinación. Debe existir en ambos DataFrames.\n",
    "\n",
    "    Retorna\n",
    "    -------\n",
    "    pandas.DataFrame\n",
    "        DataFrame resultante de la combinación de df_left y df_right.\n",
    "    \"\"\"\n",
    "    df_merge = df_left.merge(df_right, on=merge_column)\n",
    "    return df_merge"
   ],
   "id": "ea3706253064d264",
   "outputs": [],
   "execution_count": 61
  },
  {
   "metadata": {
    "ExecuteTime": {
     "end_time": "2025-05-19T19:46:23.187860Z",
     "start_time": "2025-05-19T19:46:23.184857Z"
    }
   },
   "cell_type": "code",
   "source": [
    "def group_tags(df, group_column, agg_column):\n",
    "    \"\"\"\n",
    "    Agrupa un DataFrame de pandas por una columna y agrega los valores de otra columna en listas.\n",
    "\n",
    "    Parámetros\n",
    "    ----------\n",
    "    df: pandas.DataFrame\n",
    "        DataFrame a agrupar.\n",
    "    group_column: str\n",
    "        Nombre de la columna por la cual agrupar.\n",
    "    agg_column: str\n",
    "        Nombre de la columna cuyos valores se agregarán en listas por cada grupo.\n",
    "\n",
    "    Retorna\n",
    "    -------\n",
    "    pandas.DataFrame\n",
    "        DataFrame con las columnas `group_column` y `agg_column`, donde esta última contiene listas de valores agrupados.\n",
    "\n",
    "    \"\"\"\n",
    "    df_grouped = df.groupby(group_column)[agg_column].apply(list).reset_index()\n",
    "    return df_grouped"
   ],
   "id": "3d72a706504468af",
   "outputs": [],
   "execution_count": 62
  },
  {
   "metadata": {
    "ExecuteTime": {
     "end_time": "2025-05-19T19:46:23.207391Z",
     "start_time": "2025-05-19T19:46:23.202384Z"
    }
   },
   "cell_type": "code",
   "source": [
    "def get_frecuency_tags(df, column, n=100):\n",
    "    \"\"\"\n",
    "    Extrae las N etiquetas más frecuentes de un DataFrame donde cada fila contiene una lista de etiquetas.\n",
    "\n",
    "    Parámetros\n",
    "    ----------\n",
    "    df: pandas.DataFrame\n",
    "        DataFrame que contiene la columna de etiquetas.\n",
    "    column: str\n",
    "        Nombre de la columna cuyas celdas son listas de etiquetas.\n",
    "    n: int, opcional\n",
    "        Número de etiquetas más frecuentes a devolver (por defecto es 100).\n",
    "\n",
    "    Retorna\n",
    "    -------\n",
    "    list of str\n",
    "        Lista de las N etiquetas más frecuentes, ordenadas de mayor a menor frecuencia.\n",
    "    \"\"\"\n",
    "    flat_list = [item for sublist in df[column].values for item in sublist]\n",
    "    keywords = nltk.FreqDist(flat_list)\n",
    "    frequencies_words = keywords.most_common(n)\n",
    "    tags_features = [word[0] for word in frequencies_words]\n",
    "    return tags_features"
   ],
   "id": "8536d586da74a9f0",
   "outputs": [],
   "execution_count": 63
  },
  {
   "metadata": {
    "ExecuteTime": {
     "end_time": "2025-05-19T19:46:23.223407Z",
     "start_time": "2025-05-19T19:46:23.219901Z"
    }
   },
   "cell_type": "code",
   "source": [
    "def most_common(tags):\n",
    "    \"\"\"\n",
    "    Filtra una lista de etiquetas conservando solo aquellas presentes en la lista global `tags_features`.\n",
    "\n",
    "    Parámetros\n",
    "    ----------\n",
    "    tags: list of str\n",
    "        Lista de etiquetas a filtrar.\n",
    "\n",
    "    Retorna\n",
    "    -------\n",
    "    list of str\n",
    "        Subconjunto de `tags` que también se encuentran en `tags_features`, conservando el orden original.\n",
    "    \"\"\"\n",
    "    tags_filtered = []\n",
    "    for i in range(len(tags)):\n",
    "        if tags[i] in tags_features:\n",
    "            tags_filtered.append(tags[i])\n",
    "    return tags_filtered"
   ],
   "id": "5a73b8d0ba9b47d9",
   "outputs": [],
   "execution_count": 64
  },
  {
   "metadata": {
    "ExecuteTime": {
     "end_time": "2025-05-19T19:46:23.243550Z",
     "start_time": "2025-05-19T19:46:23.237271Z"
    }
   },
   "cell_type": "code",
   "source": [
    "def clean_text(text):\n",
    "    \"\"\"\n",
    "    Limpia y normaliza una cadena de texto en inglés.\n",
    "\n",
    "    Convierte el texto a minúsculas, expande contracciones comunes\n",
    "    (p. ej., \"what's\" → \"what is\", \"can't\" → \"can not\"), elimina secuencias\n",
    "    de escape específicas y quita espacios al principio y al final.\n",
    "\n",
    "    Parámetros\n",
    "    ----------\n",
    "    text: str\n",
    "        Cadena de texto que se desea limpiar y normalizar.\n",
    "\n",
    "    Retorna\n",
    "    -------\n",
    "    str\n",
    "        Texto procesado: en minúsculas, contracciones expandidas y sin espacios\n",
    "        iniciales o finales.\n",
    "    \"\"\"\n",
    "    text = text.lower()\n",
    "    text = re.sub(r\"what's\", \"what is \", text)\n",
    "    text = re.sub(r\"\\'s\", \" \", text)\n",
    "    text = re.sub(r\"\\'ve\", \" have \", text)\n",
    "    text = re.sub(r\"can't\", \"can not \", text)\n",
    "    text = re.sub(r\"n't\", \" not \", text)\n",
    "    text = re.sub(r\"i'm\", \"i am \", text)\n",
    "    text = re.sub(r\"\\'re\", \" are \", text)\n",
    "    text = re.sub(r\"\\'d\", \" would \", text)\n",
    "    text = re.sub(r\"\\'ll\", \" will \", text)\n",
    "    text = re.sub(r\"\\'scuse\", \" excuse \", text)\n",
    "    text = re.sub(r\"\\'\\n\", \" \", text)\n",
    "    text = re.sub(r\"\\'\\xa0\", \" \", text)\n",
    "    text = text.strip(' ')\n",
    "    return text"
   ],
   "id": "f6da5c99aafd9fdb",
   "outputs": [],
   "execution_count": 65
  },
  {
   "metadata": {
    "ExecuteTime": {
     "end_time": "2025-05-19T19:46:23.258154Z",
     "start_time": "2025-05-19T19:46:23.253553Z"
    }
   },
   "cell_type": "code",
   "source": [
    "def data_transformation(data):\n",
    "    \"\"\"\n",
    "    Aplica transformaciones de limpieza y filtrado a un DataFrame de preguntas.\n",
    "\n",
    "    Descripción\n",
    "    -----------\n",
    "    - Filtra las etiquetas de cada fila usando `most_common`; si no quedan etiquetas, asigna None.\n",
    "    - Extrae y limpia el texto HTML de la columna 'Body' usando BeautifulSoup y `clean_text`,\n",
    "      además de eliminar cualquier etiqueta HTML restante.\n",
    "    - Asegura que la columna 'Title' sea de tipo cadena.\n",
    "\n",
    "    Parámetros\n",
    "    ----------\n",
    "    data: pandas.DataFrame\n",
    "        DataFrame que debe contener las columnas:\n",
    "        - 'Tag': listas de etiquetas por fila.\n",
    "        - 'Body': texto con posible HTML.\n",
    "        - 'Title': valores a convertir a texto.\n",
    "\n",
    "    Retorna\n",
    "    -------\n",
    "    pandas.DataFrame\n",
    "        Mismo DataFrame con las transformaciones aplicadas:\n",
    "        - 'Tag': lista de etiquetas comunes o None.\n",
    "        - 'Body': texto limpio sin HTML, en minúsculas y con contracciones expandidas.\n",
    "        - 'Title': valores convertidos a str.\n",
    "    \"\"\"\n",
    "    data.loc[:, 'Tag'] = data['Tag'].apply(lambda x: most_common(x))\n",
    "    data.loc[:, 'Tag'] = data['Tag'].apply(lambda x: x if len(x) > 0 else None)\n",
    "    data = data.dropna(subset=['Tag'])\n",
    "\n",
    "    data.loc[:, 'Body'] = data['Body'].apply(lambda x: BeautifulSoup(x).get_text())\n",
    "    data.loc[:, 'Body'] = data['Body'].apply(lambda x: clean_text(x))\n",
    "    data.loc[:, 'Body'] = data['Body'].apply(lambda x: re.sub('<[^<]+?>','',x))\n",
    "\n",
    "    data.loc[:, 'Title'] = data['Title'].astype(str)\n",
    "\n",
    "    return data"
   ],
   "id": "2bc797d39e96cd8e",
   "outputs": [],
   "execution_count": 66
  },
  {
   "metadata": {},
   "cell_type": "markdown",
   "source": "### Lectura de datos",
   "id": "618c99db254493b6"
  },
  {
   "metadata": {
    "ExecuteTime": {
     "end_time": "2025-05-19T19:46:43.063875Z",
     "start_time": "2025-05-19T19:46:23.271795Z"
    }
   },
   "cell_type": "code",
   "source": "questions = read_data('../data/input/Questions.csv')",
   "id": "9964071610de9eec",
   "outputs": [],
   "execution_count": 67
  },
  {
   "metadata": {
    "ExecuteTime": {
     "end_time": "2025-05-19T19:46:43.749514Z",
     "start_time": "2025-05-19T19:46:43.075387Z"
    }
   },
   "cell_type": "code",
   "source": [
    "tags = read_data('../data/input/Tags.csv')\n",
    "tags = tags.dropna(subset=['Tag'])"
   ],
   "id": "f46fad75f80760f8",
   "outputs": [],
   "execution_count": 68
  },
  {
   "metadata": {},
   "cell_type": "markdown",
   "source": "### Limpieza de datos y merge de los data sets",
   "id": "dcb16653f85bf9a3"
  },
  {
   "metadata": {
    "ExecuteTime": {
     "end_time": "2025-05-19T19:46:43.859693Z",
     "start_time": "2025-05-19T19:46:43.759401Z"
    }
   },
   "cell_type": "code",
   "source": "questions = drop_columns(questions, ['OwnerUserId', 'CreationDate', 'ClosedDate','Score'])",
   "id": "5c7092d39e280d9b",
   "outputs": [],
   "execution_count": 69
  },
  {
   "metadata": {},
   "cell_type": "code",
   "source": "grouped_tags = group_tags(tags, \"Id\", \"Tag\")",
   "id": "b4aa69e764227cbb",
   "outputs": [],
   "execution_count": null
  },
  {
   "metadata": {},
   "cell_type": "code",
   "source": "data_merged = merge_datasets(questions,grouped_tags,'Id')",
   "id": "4d90162b37639355",
   "outputs": [],
   "execution_count": null
  },
  {
   "metadata": {},
   "cell_type": "code",
   "source": "tags_features = get_frecuency_tags(data_merged, 'Tag')",
   "id": "23e8a9d6225d799c",
   "outputs": [],
   "execution_count": null
  },
  {
   "metadata": {},
   "cell_type": "markdown",
   "source": "### Transformacion de datos",
   "id": "9a459c96dc0a4608"
  },
  {
   "metadata": {
    "ExecuteTime": {
     "end_time": "2025-05-19T19:50:30.450673Z",
     "start_time": "2025-05-19T19:46:56.828455Z"
    }
   },
   "cell_type": "code",
   "source": "data_merged = data_transformation(data_merged)",
   "id": "589472dd80bf8482",
   "outputs": [],
   "execution_count": 73
  },
  {
   "metadata": {},
   "cell_type": "markdown",
   "source": "### Guardar datos",
   "id": "e522ff94202dca1"
  },
  {
   "metadata": {
    "ExecuteTime": {
     "end_time": "2025-05-19T19:50:34.737782Z",
     "start_time": "2025-05-19T19:50:30.519136Z"
    }
   },
   "cell_type": "code",
   "source": "data_merged.to_parquet('../data/output/StackOverflow.parquet',index=False)",
   "id": "6bcda845d81ceea7",
   "outputs": [],
   "execution_count": 75
  }
 ],
 "metadata": {
  "kernelspec": {
   "display_name": "Python [conda env:base] *",
   "language": "python",
   "name": "conda-base-py"
  },
  "language_info": {
   "codemirror_mode": {
    "name": "ipython",
    "version": 2
   },
   "file_extension": ".py",
   "mimetype": "text/x-python",
   "name": "python",
   "nbconvert_exporter": "python",
   "pygments_lexer": "ipython2",
   "version": "2.7.6"
  }
 },
 "nbformat": 4,
 "nbformat_minor": 5
}
