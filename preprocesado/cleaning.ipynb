{
 "cells": [
  {
   "metadata": {},
   "cell_type": "markdown",
   "source": [
    "# Cleaning\n",
    "\n",
    "### Motivacion\n",
    "Dejar los datos en un archivo parquet para poder ser utilizados en el modelo de clasificacion de texto, para eso se eliminan las columnas que no son relevantes y se limpian los textos para que sean mas faciles de procesar."
   ],
   "id": "27689387f1e469dc"
  },
  {
   "metadata": {},
   "cell_type": "markdown",
   "source": "### Importar librerias",
   "id": "85b3bdb6269c6843"
  },
  {
   "metadata": {
    "ExecuteTime": {
     "end_time": "2025-05-19T14:42:23.704193Z",
     "start_time": "2025-05-19T14:42:23.701194Z"
    }
   },
   "cell_type": "code",
   "source": [
    "import numpy as np\n",
    "import pandas as pd\n",
    "import matplotlib.pyplot as plt\n",
    "from bs4 import BeautifulSoup\n",
    "import re\n",
    "import html\n",
    "import nltk"
   ],
   "id": "93c5fdf34794d3cf",
   "outputs": [],
   "execution_count": 60
  },
  {
   "metadata": {},
   "cell_type": "markdown",
   "source": "### Importar los datos",
   "id": "eb883dbde36a6521"
  },
  {
   "metadata": {
    "ExecuteTime": {
     "end_time": "2025-05-19T14:42:25.968884Z",
     "start_time": "2025-05-19T14:42:25.965653Z"
    }
   },
   "cell_type": "code",
   "source": [
    "def read_data(file_path):\n",
    "    \"\"\"\n",
    "    Lee un archivo CSV y lo carga en un DataFrame de pandas.\n",
    "\n",
    "    Parámetros\n",
    "    ----------\n",
    "    file_path: str\n",
    "        Ruta al archivo CSV que se desea leer.\n",
    "\n",
    "    Retorna\n",
    "    -------\n",
    "    pandas.DataFrame\n",
    "        DataFrame con los datos cargados desde el archivo CSV.\n",
    "    \"\"\"\n",
    "    data = pd.read_csv(file_path, encoding=\"ISO-8859-1\")\n",
    "    return data"
   ],
   "id": "e6e78c590c651dde",
   "outputs": [],
   "execution_count": 61
  },
  {
   "metadata": {
    "ExecuteTime": {
     "end_time": "2025-05-19T14:42:27.200655Z",
     "start_time": "2025-05-19T14:42:27.197627Z"
    }
   },
   "cell_type": "code",
   "source": [
    "def drop_columns(df, columns):\n",
    "    \"\"\"\n",
    "    Elimina una o varias columnas de un DataFrame de pandas.\n",
    "\n",
    "    Parámetros\n",
    "    ----------\n",
    "    df: pandas.DataFrame\n",
    "        DataFrame del cual se eliminarán las columnas.\n",
    "    columns: str o list de str\n",
    "        Nombre o lista de nombres de las columnas a eliminar del DataFrame.\n",
    "\n",
    "    Retorna\n",
    "    -------\n",
    "    pandas.DataFrame\n",
    "        El mismo DataFrame después de eliminar las columnas indicadas.\n",
    "    \"\"\"\n",
    "    df.drop(columns=columns, inplace=True)\n",
    "    return df"
   ],
   "id": "c4e6e37bc397e9d6",
   "outputs": [],
   "execution_count": 62
  },
  {
   "metadata": {
    "ExecuteTime": {
     "end_time": "2025-05-19T14:42:28.455940Z",
     "start_time": "2025-05-19T14:42:28.451940Z"
    }
   },
   "cell_type": "code",
   "source": [
    "def merge_datasets(df_left, df_right, merge_column):\n",
    "    \"\"\"\n",
    "    Combina dos DataFrames de pandas mediante un join interno sobre una columna común.\n",
    "\n",
    "    Parámetros\n",
    "    ----------\n",
    "    df_left: pandas.DataFrame\n",
    "        DataFrame izquierdo en la operación de merge.\n",
    "    df_right: pandas.DataFrame\n",
    "        DataFrame derecho en la operación de merge.\n",
    "    merge_column: str\n",
    "        Nombre de la columna sobre la cual se realizará la combinación. Debe existir en ambos DataFrames.\n",
    "\n",
    "    Retorna\n",
    "    -------\n",
    "    pandas.DataFrame\n",
    "        DataFrame resultante de la combinación de df_left y df_right.\n",
    "    \"\"\"\n",
    "    df_merge = df_left.merge(df_right, on=merge_column)\n",
    "    return df_merge"
   ],
   "id": "ea3706253064d264",
   "outputs": [],
   "execution_count": 63
  },
  {
   "metadata": {
    "ExecuteTime": {
     "end_time": "2025-05-19T14:42:30.601361Z",
     "start_time": "2025-05-19T14:42:30.596871Z"
    }
   },
   "cell_type": "code",
   "source": [
    "def group_tags(df, group_column, agg_column):\n",
    "    \"\"\"\n",
    "    Agrupa un DataFrame de pandas por una columna y agrega los valores de otra columna en listas.\n",
    "\n",
    "    Parámetros\n",
    "    ----------\n",
    "    df: pandas.DataFrame\n",
    "        DataFrame a agrupar.\n",
    "    group_column: str\n",
    "        Nombre de la columna por la cual agrupar.\n",
    "    agg_column: str\n",
    "        Nombre de la columna cuyos valores se agregarán en listas por cada grupo.\n",
    "\n",
    "    Retorna\n",
    "    -------\n",
    "    pandas.DataFrame\n",
    "        DataFrame con las columnas `group_column` y `agg_column`, donde esta última contiene listas de valores agrupados.\n",
    "\n",
    "    \"\"\"\n",
    "    df_grouped = df.groupby(group_column)[agg_column].apply(list).reset_index()\n",
    "    return df_grouped"
   ],
   "id": "3d72a706504468af",
   "outputs": [],
   "execution_count": 64
  },
  {
   "metadata": {
    "ExecuteTime": {
     "end_time": "2025-05-19T14:42:31.795015Z",
     "start_time": "2025-05-19T14:42:31.789933Z"
    }
   },
   "cell_type": "code",
   "source": [
    "def get_frecuency_tags(df, column, n=100):\n",
    "    \"\"\"\n",
    "    Extrae las N etiquetas más frecuentes de un DataFrame donde cada fila contiene una lista de etiquetas.\n",
    "\n",
    "    Parámetros\n",
    "    ----------\n",
    "    df: pandas.DataFrame\n",
    "        DataFrame que contiene la columna de etiquetas.\n",
    "    column: str\n",
    "        Nombre de la columna cuyas celdas son listas de etiquetas.\n",
    "    n: int, opcional\n",
    "        Número de etiquetas más frecuentes a devolver (por defecto es 100).\n",
    "\n",
    "    Retorna\n",
    "    -------\n",
    "    list of str\n",
    "        Lista de las N etiquetas más frecuentes, ordenadas de mayor a menor frecuencia.\n",
    "    \"\"\"\n",
    "    flat_list = [item for sublist in df[column].values for item in sublist]\n",
    "    keywords = nltk.FreqDist(flat_list)\n",
    "    frequencies_words = keywords.most_common(n)\n",
    "    tags_features = [word[0] for word in frequencies_words]\n",
    "    return tags_features"
   ],
   "id": "8536d586da74a9f0",
   "outputs": [],
   "execution_count": 65
  },
  {
   "metadata": {
    "ExecuteTime": {
     "end_time": "2025-05-19T14:42:33.128412Z",
     "start_time": "2025-05-19T14:42:33.123890Z"
    }
   },
   "cell_type": "code",
   "source": [
    "def most_common(tags):\n",
    "    \"\"\"\n",
    "    Filtra una lista de etiquetas conservando solo aquellas presentes en la lista global `tags_features`.\n",
    "\n",
    "    Parámetros\n",
    "    ----------\n",
    "    tags: list of str\n",
    "        Lista de etiquetas a filtrar.\n",
    "\n",
    "    Retorna\n",
    "    -------\n",
    "    list of str\n",
    "        Subconjunto de `tags` que también se encuentran en `tags_features`, conservando el orden original.\n",
    "    \"\"\"\n",
    "    tags_filtered = []\n",
    "    for i in range(len(tags)):\n",
    "        if tags[i] in tags_features:\n",
    "            tags_filtered.append(tags[i])\n",
    "    return tags_filtered"
   ],
   "id": "5a73b8d0ba9b47d9",
   "outputs": [],
   "execution_count": 66
  },
  {
   "metadata": {
    "ExecuteTime": {
     "end_time": "2025-05-19T14:42:34.798948Z",
     "start_time": "2025-05-19T14:42:34.793867Z"
    }
   },
   "cell_type": "code",
   "source": [
    "def clean_text(text):\n",
    "    \"\"\"\n",
    "    Limpia y normaliza una cadena de texto en inglés.\n",
    "\n",
    "    Convierte el texto a minúsculas, expande contracciones comunes\n",
    "    (p. ej., \"what's\" → \"what is\", \"can't\" → \"can not\"), elimina secuencias\n",
    "    de escape específicas y quita espacios al principio y al final.\n",
    "\n",
    "    Parámetros\n",
    "    ----------\n",
    "    text: str\n",
    "        Cadena de texto que se desea limpiar y normalizar.\n",
    "\n",
    "    Retorna\n",
    "    -------\n",
    "    str\n",
    "        Texto procesado: en minúsculas, contracciones expandidas y sin espacios\n",
    "        iniciales o finales.\n",
    "    \"\"\"\n",
    "    text = text.lower()\n",
    "    text = re.sub(r\"what's\", \"what is \", text)\n",
    "    text = re.sub(r\"\\'s\", \" \", text)\n",
    "    text = re.sub(r\"\\'ve\", \" have \", text)\n",
    "    text = re.sub(r\"can't\", \"can not \", text)\n",
    "    text = re.sub(r\"n't\", \" not \", text)\n",
    "    text = re.sub(r\"i'm\", \"i am \", text)\n",
    "    text = re.sub(r\"\\'re\", \" are \", text)\n",
    "    text = re.sub(r\"\\'d\", \" would \", text)\n",
    "    text = re.sub(r\"\\'ll\", \" will \", text)\n",
    "    text = re.sub(r\"\\'scuse\", \" excuse \", text)\n",
    "    text = re.sub(r\"\\'\\n\", \" \", text)\n",
    "    text = re.sub(r\"\\'\\xa0\", \" \", text)\n",
    "    text = text.strip(' ')\n",
    "    return text"
   ],
   "id": "f6da5c99aafd9fdb",
   "outputs": [],
   "execution_count": 67
  },
  {
   "metadata": {
    "ExecuteTime": {
     "end_time": "2025-05-19T14:42:36.144322Z",
     "start_time": "2025-05-19T14:42:36.139322Z"
    }
   },
   "cell_type": "code",
   "source": [
    "def data_transformation(data):\n",
    "    \"\"\"\n",
    "    Aplica transformaciones de limpieza y filtrado a un DataFrame de preguntas.\n",
    "\n",
    "    Descripción\n",
    "    -----------\n",
    "    - Filtra las etiquetas de cada fila usando `most_common`; si no quedan etiquetas, asigna None.\n",
    "    - Extrae y limpia el texto HTML de la columna 'Body' usando BeautifulSoup y `clean_text`,\n",
    "      además de eliminar cualquier etiqueta HTML restante.\n",
    "    - Asegura que la columna 'Title' sea de tipo cadena.\n",
    "\n",
    "    Parámetros\n",
    "    ----------\n",
    "    data: pandas.DataFrame\n",
    "        DataFrame que debe contener las columnas:\n",
    "        - 'Tag': listas de etiquetas por fila.\n",
    "        - 'Body': texto con posible HTML.\n",
    "        - 'Title': valores a convertir a texto.\n",
    "\n",
    "    Retorna\n",
    "    -------\n",
    "    pandas.DataFrame\n",
    "        Mismo DataFrame con las transformaciones aplicadas:\n",
    "        - 'Tag': lista de etiquetas comunes o None.\n",
    "        - 'Body': texto limpio sin HTML, en minúsculas y con contracciones expandidas.\n",
    "        - 'Title': valores convertidos a str.\n",
    "    \"\"\"\n",
    "    data['Tag'] = data['Tag'].apply(lambda x: most_common(x))\n",
    "    data['Tag'] = data['Tag'].apply(lambda x: x if len(x) > 0 else None)\n",
    "\n",
    "    data['Body'] = data['Body'].apply(lambda x: BeautifulSoup(x).get_text())\n",
    "    data['Body'] = data['Body'].apply(lambda x: clean_text(x))\n",
    "    data['Body']= data['Body'].apply(lambda x: re.sub('<[^<]+?>','',x))\n",
    "\n",
    "    data['Title'] = data['Title'].astype(str)\n",
    "\n",
    "    return data"
   ],
   "id": "2bc797d39e96cd8e",
   "outputs": [],
   "execution_count": 68
  },
  {
   "metadata": {
    "ExecuteTime": {
     "end_time": "2025-05-19T14:42:53.150686Z",
     "start_time": "2025-05-19T14:42:37.799061Z"
    }
   },
   "cell_type": "code",
   "source": "questions = read_data('../data/input/Questions.csv')",
   "id": "9964071610de9eec",
   "outputs": [],
   "execution_count": 69
  },
  {
   "metadata": {
    "ExecuteTime": {
     "end_time": "2025-05-19T14:42:53.885400Z",
     "start_time": "2025-05-19T14:42:53.165375Z"
    }
   },
   "cell_type": "code",
   "source": [
    "tags = read_data('../data/input/Tags.csv')\n",
    "tags = tags.dropna(subset=['Tag'])"
   ],
   "id": "f46fad75f80760f8",
   "outputs": [],
   "execution_count": 70
  },
  {
   "metadata": {
    "ExecuteTime": {
     "end_time": "2025-05-19T14:42:53.977046Z",
     "start_time": "2025-05-19T14:42:53.899500Z"
    }
   },
   "cell_type": "code",
   "source": "questions = drop_columns(questions, ['OwnerUserId', 'CreationDate', 'ClosedDate','Score'])",
   "id": "5c7092d39e280d9b",
   "outputs": [],
   "execution_count": 71
  },
  {
   "metadata": {
    "ExecuteTime": {
     "end_time": "2025-05-19T14:43:11.270976Z",
     "start_time": "2025-05-19T14:42:53.989846Z"
    }
   },
   "cell_type": "code",
   "source": [
    "grouped_tags = group_tags(tags, \"Id\", \"Tag\")\n",
    "grouped_tags.head(5)"
   ],
   "id": "b4aa69e764227cbb",
   "outputs": [
    {
     "data": {
      "text/plain": [
       "    Id                                                Tag\n",
       "0   80                        [flex, actionscript-3, air]\n",
       "1   90  [svn, tortoisesvn, branch, branching-and-merging]\n",
       "2  120                            [sql, asp.net, sitemap]\n",
       "3  180  [algorithm, language-agnostic, colors, color-s...\n",
       "4  260       [c#, .net, scripting, compiler-construction]"
      ],
      "text/html": [
       "<div>\n",
       "<style scoped>\n",
       "    .dataframe tbody tr th:only-of-type {\n",
       "        vertical-align: middle;\n",
       "    }\n",
       "\n",
       "    .dataframe tbody tr th {\n",
       "        vertical-align: top;\n",
       "    }\n",
       "\n",
       "    .dataframe thead th {\n",
       "        text-align: right;\n",
       "    }\n",
       "</style>\n",
       "<table border=\"1\" class=\"dataframe\">\n",
       "  <thead>\n",
       "    <tr style=\"text-align: right;\">\n",
       "      <th></th>\n",
       "      <th>Id</th>\n",
       "      <th>Tag</th>\n",
       "    </tr>\n",
       "  </thead>\n",
       "  <tbody>\n",
       "    <tr>\n",
       "      <th>0</th>\n",
       "      <td>80</td>\n",
       "      <td>[flex, actionscript-3, air]</td>\n",
       "    </tr>\n",
       "    <tr>\n",
       "      <th>1</th>\n",
       "      <td>90</td>\n",
       "      <td>[svn, tortoisesvn, branch, branching-and-merging]</td>\n",
       "    </tr>\n",
       "    <tr>\n",
       "      <th>2</th>\n",
       "      <td>120</td>\n",
       "      <td>[sql, asp.net, sitemap]</td>\n",
       "    </tr>\n",
       "    <tr>\n",
       "      <th>3</th>\n",
       "      <td>180</td>\n",
       "      <td>[algorithm, language-agnostic, colors, color-s...</td>\n",
       "    </tr>\n",
       "    <tr>\n",
       "      <th>4</th>\n",
       "      <td>260</td>\n",
       "      <td>[c#, .net, scripting, compiler-construction]</td>\n",
       "    </tr>\n",
       "  </tbody>\n",
       "</table>\n",
       "</div>"
      ]
     },
     "execution_count": 72,
     "metadata": {},
     "output_type": "execute_result"
    }
   ],
   "execution_count": 72
  },
  {
   "metadata": {
    "ExecuteTime": {
     "end_time": "2025-05-19T14:43:11.457597Z",
     "start_time": "2025-05-19T14:43:11.306960Z"
    }
   },
   "cell_type": "code",
   "source": [
    "data_merged = merge_datasets(questions,grouped_tags,'Id')\n",
    "data_merged.head(10)"
   ],
   "id": "4d90162b37639355",
   "outputs": [
    {
     "data": {
      "text/plain": [
       "    Id                                              Title  \\\n",
       "0   80  SQLStatement.execute() - multiple queries in o...   \n",
       "1   90  Good branching and merging tutorials for Torto...   \n",
       "2  120                                  ASP.NET Site Maps   \n",
       "3  180                 Function for creating color wheels   \n",
       "4  260  Adding scripting functionality to .NET applica...   \n",
       "5  330          Should I use nested classes in this case?   \n",
       "6  470              Homegrown consumption of web services   \n",
       "7  580   Deploying SQL Server Databases from Test to Live   \n",
       "8  650                Automatically update version number   \n",
       "9  810  Visual Studio Setup Project - Per User Registr...   \n",
       "\n",
       "                                                Body  \\\n",
       "0  <p>I've written a database generation script i...   \n",
       "1  <p>Are there any really good tutorials explain...   \n",
       "2  <p>Has anyone got experience creating <strong>...   \n",
       "3  <p>This is something I've pseudo-solved many t...   \n",
       "4  <p>I have a little game written in C#. It uses...   \n",
       "5  <p>I am working on a collection of classes use...   \n",
       "6  <p>I've been writing a few web services for a ...   \n",
       "7  <p>I wonder how you guys manage deployment of ...   \n",
       "8  <p>I would like the version property of my app...   \n",
       "9  <p>I'm trying to maintain a Setup Project in <...   \n",
       "\n",
       "                                                 Tag  \n",
       "0                        [flex, actionscript-3, air]  \n",
       "1  [svn, tortoisesvn, branch, branching-and-merging]  \n",
       "2                            [sql, asp.net, sitemap]  \n",
       "3  [algorithm, language-agnostic, colors, color-s...  \n",
       "4       [c#, .net, scripting, compiler-construction]  \n",
       "5                    [c++, oop, class, nested-class]  \n",
       "6                               [.net, web-services]  \n",
       "7  [sql-server, sql-server-2005, deployment, rele...  \n",
       "8                    [c#, visual-studio, versioning]  \n",
       "9   [windows, visual-studio, registry, installation]  "
      ],
      "text/html": [
       "<div>\n",
       "<style scoped>\n",
       "    .dataframe tbody tr th:only-of-type {\n",
       "        vertical-align: middle;\n",
       "    }\n",
       "\n",
       "    .dataframe tbody tr th {\n",
       "        vertical-align: top;\n",
       "    }\n",
       "\n",
       "    .dataframe thead th {\n",
       "        text-align: right;\n",
       "    }\n",
       "</style>\n",
       "<table border=\"1\" class=\"dataframe\">\n",
       "  <thead>\n",
       "    <tr style=\"text-align: right;\">\n",
       "      <th></th>\n",
       "      <th>Id</th>\n",
       "      <th>Title</th>\n",
       "      <th>Body</th>\n",
       "      <th>Tag</th>\n",
       "    </tr>\n",
       "  </thead>\n",
       "  <tbody>\n",
       "    <tr>\n",
       "      <th>0</th>\n",
       "      <td>80</td>\n",
       "      <td>SQLStatement.execute() - multiple queries in o...</td>\n",
       "      <td>&lt;p&gt;I've written a database generation script i...</td>\n",
       "      <td>[flex, actionscript-3, air]</td>\n",
       "    </tr>\n",
       "    <tr>\n",
       "      <th>1</th>\n",
       "      <td>90</td>\n",
       "      <td>Good branching and merging tutorials for Torto...</td>\n",
       "      <td>&lt;p&gt;Are there any really good tutorials explain...</td>\n",
       "      <td>[svn, tortoisesvn, branch, branching-and-merging]</td>\n",
       "    </tr>\n",
       "    <tr>\n",
       "      <th>2</th>\n",
       "      <td>120</td>\n",
       "      <td>ASP.NET Site Maps</td>\n",
       "      <td>&lt;p&gt;Has anyone got experience creating &lt;strong&gt;...</td>\n",
       "      <td>[sql, asp.net, sitemap]</td>\n",
       "    </tr>\n",
       "    <tr>\n",
       "      <th>3</th>\n",
       "      <td>180</td>\n",
       "      <td>Function for creating color wheels</td>\n",
       "      <td>&lt;p&gt;This is something I've pseudo-solved many t...</td>\n",
       "      <td>[algorithm, language-agnostic, colors, color-s...</td>\n",
       "    </tr>\n",
       "    <tr>\n",
       "      <th>4</th>\n",
       "      <td>260</td>\n",
       "      <td>Adding scripting functionality to .NET applica...</td>\n",
       "      <td>&lt;p&gt;I have a little game written in C#. It uses...</td>\n",
       "      <td>[c#, .net, scripting, compiler-construction]</td>\n",
       "    </tr>\n",
       "    <tr>\n",
       "      <th>5</th>\n",
       "      <td>330</td>\n",
       "      <td>Should I use nested classes in this case?</td>\n",
       "      <td>&lt;p&gt;I am working on a collection of classes use...</td>\n",
       "      <td>[c++, oop, class, nested-class]</td>\n",
       "    </tr>\n",
       "    <tr>\n",
       "      <th>6</th>\n",
       "      <td>470</td>\n",
       "      <td>Homegrown consumption of web services</td>\n",
       "      <td>&lt;p&gt;I've been writing a few web services for a ...</td>\n",
       "      <td>[.net, web-services]</td>\n",
       "    </tr>\n",
       "    <tr>\n",
       "      <th>7</th>\n",
       "      <td>580</td>\n",
       "      <td>Deploying SQL Server Databases from Test to Live</td>\n",
       "      <td>&lt;p&gt;I wonder how you guys manage deployment of ...</td>\n",
       "      <td>[sql-server, sql-server-2005, deployment, rele...</td>\n",
       "    </tr>\n",
       "    <tr>\n",
       "      <th>8</th>\n",
       "      <td>650</td>\n",
       "      <td>Automatically update version number</td>\n",
       "      <td>&lt;p&gt;I would like the version property of my app...</td>\n",
       "      <td>[c#, visual-studio, versioning]</td>\n",
       "    </tr>\n",
       "    <tr>\n",
       "      <th>9</th>\n",
       "      <td>810</td>\n",
       "      <td>Visual Studio Setup Project - Per User Registr...</td>\n",
       "      <td>&lt;p&gt;I'm trying to maintain a Setup Project in &lt;...</td>\n",
       "      <td>[windows, visual-studio, registry, installation]</td>\n",
       "    </tr>\n",
       "  </tbody>\n",
       "</table>\n",
       "</div>"
      ]
     },
     "execution_count": 73,
     "metadata": {},
     "output_type": "execute_result"
    }
   ],
   "execution_count": 73
  },
  {
   "metadata": {
    "ExecuteTime": {
     "end_time": "2025-05-19T14:43:12.504656Z",
     "start_time": "2025-05-19T14:43:11.511270Z"
    }
   },
   "cell_type": "code",
   "source": [
    "tags_features = get_frecuency_tags(data_merged, 'Tag')\n",
    "tags_features"
   ],
   "id": "23e8a9d6225d799c",
   "outputs": [
    {
     "data": {
      "text/plain": [
       "['javascript',\n",
       " 'java',\n",
       " 'c#',\n",
       " 'php',\n",
       " 'android',\n",
       " 'jquery',\n",
       " 'python',\n",
       " 'html',\n",
       " 'c++',\n",
       " 'ios',\n",
       " 'mysql',\n",
       " 'css',\n",
       " 'sql',\n",
       " 'asp.net',\n",
       " 'objective-c',\n",
       " 'ruby-on-rails',\n",
       " '.net',\n",
       " 'c',\n",
       " 'iphone',\n",
       " 'angularjs',\n",
       " 'arrays',\n",
       " 'sql-server',\n",
       " 'json',\n",
       " 'ruby',\n",
       " 'r',\n",
       " 'ajax',\n",
       " 'regex',\n",
       " 'xml',\n",
       " 'node.js',\n",
       " 'asp.net-mvc',\n",
       " 'linux',\n",
       " 'django',\n",
       " 'wpf',\n",
       " 'database',\n",
       " 'swift',\n",
       " 'xcode',\n",
       " 'string',\n",
       " 'excel',\n",
       " 'vb.net',\n",
       " 'windows',\n",
       " 'spring',\n",
       " 'wordpress',\n",
       " 'eclipse',\n",
       " 'html5',\n",
       " 'multithreading',\n",
       " 'oracle',\n",
       " 'git',\n",
       " 'facebook',\n",
       " 'forms',\n",
       " 'bash',\n",
       " 'image',\n",
       " 'osx',\n",
       " 'twitter-bootstrap',\n",
       " 'mongodb',\n",
       " 'winforms',\n",
       " 'vba',\n",
       " 'algorithm',\n",
       " 'apache',\n",
       " 'performance',\n",
       " 'matlab',\n",
       " 'swing',\n",
       " 'visual-studio',\n",
       " 'entity-framework',\n",
       " 'linq',\n",
       " 'postgresql',\n",
       " 'hibernate',\n",
       " 'list',\n",
       " 'python-2.7',\n",
       " 'css3',\n",
       " 'scala',\n",
       " 'ruby-on-rails-3',\n",
       " 'qt',\n",
       " '.htaccess',\n",
       " 'web-services',\n",
       " 'function',\n",
       " 'sqlite',\n",
       " 'perl',\n",
       " 'excel-vba',\n",
       " 'shell',\n",
       " 'rest',\n",
       " 'api',\n",
       " 'sql-server-2008',\n",
       " 'uitableview',\n",
       " 'laravel',\n",
       " 'codeigniter',\n",
       " 'file',\n",
       " 'cordova',\n",
       " 'google-maps',\n",
       " 'maven',\n",
       " 'visual-studio-2010',\n",
       " 'validation',\n",
       " 'class',\n",
       " 'wcf',\n",
       " 'unit-testing',\n",
       " 'sockets',\n",
       " 'google-chrome',\n",
       " 'jsp',\n",
       " 'symfony2',\n",
       " 'python-3.x',\n",
       " 'tsql']"
      ]
     },
     "execution_count": 74,
     "metadata": {},
     "output_type": "execute_result"
    }
   ],
   "execution_count": 74
  },
  {
   "metadata": {
    "ExecuteTime": {
     "end_time": "2025-05-19T14:47:07.370855Z",
     "start_time": "2025-05-19T14:43:12.547329Z"
    }
   },
   "cell_type": "code",
   "source": "data_merged = data_transformation(data_merged)",
   "id": "589472dd80bf8482",
   "outputs": [],
   "execution_count": 75
  },
  {
   "metadata": {
    "ExecuteTime": {
     "end_time": "2025-05-19T14:47:12.446008Z",
     "start_time": "2025-05-19T14:47:07.400357Z"
    }
   },
   "cell_type": "code",
   "source": "data_merged.to_parquet('../data/output/StackOverflow.parquet',index=False)",
   "id": "6bcda845d81ceea7",
   "outputs": [],
   "execution_count": 76
  }
 ],
 "metadata": {
  "kernelspec": {
   "display_name": "Python [conda env:base] *",
   "language": "python",
   "name": "conda-base-py"
  },
  "language_info": {
   "codemirror_mode": {
    "name": "ipython",
    "version": 2
   },
   "file_extension": ".py",
   "mimetype": "text/x-python",
   "name": "python",
   "nbconvert_exporter": "python",
   "pygments_lexer": "ipython2",
   "version": "2.7.6"
  }
 },
 "nbformat": 4,
 "nbformat_minor": 5
}
