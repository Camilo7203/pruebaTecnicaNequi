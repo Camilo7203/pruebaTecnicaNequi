{
 "cells": [
  {
   "cell_type": "code",
   "id": "initial_id",
   "metadata": {
    "collapsed": true
   },
   "source": [
    "import pandas as pd\n",
    "import joblib\n",
    "import numpy as np\n",
    "from sklearn.metrics import f1_score, precision_score, recall_score, hamming_loss"
   ],
   "outputs": [],
   "execution_count": null
  },
  {
   "metadata": {},
   "cell_type": "code",
   "source": [
    "def predict_top_n_tags(text, vectorizer, classifier, multilabel_binarizer, n=5):\n",
    "    \"\"\"\n",
    "    Predice las n etiquetas más probables para un texto dado.\n",
    "\n",
    "    Parámetros:\n",
    "    -----------\n",
    "    text : str\n",
    "        Texto para el cual predecir etiquetas.\n",
    "    vectorizer : TfidfVectorizer\n",
    "        Vectorizador TF-IDF entrenado.\n",
    "    classifier : OneVsRestClassifier\n",
    "        Clasificador entrenado.\n",
    "    multilabel_binarizer : MultiLabelBinarizer\n",
    "        Binarizador de etiquetas utilizado.\n",
    "    n : int\n",
    "        Número máximo de etiquetas a predecir.\n",
    "\n",
    "    Retorna:\n",
    "    --------\n",
    "    list\n",
    "        Lista de las n etiquetas más probables.\n",
    "    \"\"\"\n",
    "    X = vectorizer.transform([text.lower()])\n",
    "\n",
    "    y_proba = classifier.predict_proba(X)\n",
    "\n",
    "    top_n_indices = y_proba[0].argsort()[-n:][::-1]\n",
    "\n",
    "    y_pred = np.zeros(y_proba.shape[1], dtype=int)\n",
    "    for idx in top_n_indices:\n",
    "        if y_proba[0][idx] > 0.05:\n",
    "            y_pred[idx] = 1\n",
    "\n",
    "    predicted_tags = multilabel_binarizer.inverse_transform(y_pred.reshape(1, -1))\n",
    "\n",
    "    return predicted_tags[0]"
   ],
   "id": "552aad29e94a8d93",
   "outputs": [],
   "execution_count": null
  },
  {
   "metadata": {},
   "cell_type": "code",
   "source": [
    "clf = joblib.load('../models/modelo_logreg.joblib')\n",
    "vectorizer = joblib.load('../models/vectorizer_tfidf.joblib')\n",
    "multilabel_binarizer = joblib.load('../models/multilabel_binarizer.joblib')"
   ],
   "id": "efc8b5307e16152e",
   "outputs": [],
   "execution_count": null
  },
  {
   "metadata": {},
   "cell_type": "code",
   "source": "data_muestra = pd.read_parquet('../data/output/muestras_100_preguntas.parquet')",
   "id": "fefe4757e5928496",
   "outputs": [],
   "execution_count": null
  },
  {
   "metadata": {},
   "cell_type": "code",
   "source": [
    "data_muestra['text'] = data_muestra['Title'] + ' ' + data_muestra['Body'].fillna('')\n",
    "X_muestra = vectorizer.transform(data_muestra['text'].astype(str).str.lower())"
   ],
   "id": "15f7519eacdd0c5c",
   "outputs": [],
   "execution_count": null
  },
  {
   "metadata": {},
   "cell_type": "code",
   "source": [
    "resultados = []\n",
    "for idx, row in data_muestra.iterrows():\n",
    "    texto = row['text']\n",
    "\n",
    "    tags_pred = predict_top_n_tags(texto, vectorizer, clf, multilabel_binarizer, n=5)\n",
    "\n",
    "    resultados.append({\n",
    "        'ID': row['Id'],\n",
    "        'Título': row['Title'],\n",
    "        'Etiquetas_reales': row['Tag'],\n",
    "        'Etiquetas_predichas': tags_pred,\n",
    "        'Acierto': any(tag in row['Tag'] for tag in tags_pred) if len(tags_pred) > 0 else False\n",
    "    })"
   ],
   "id": "f71770e1ba44da93",
   "outputs": [],
   "execution_count": null
  },
  {
   "metadata": {},
   "cell_type": "code",
   "source": [
    "df_resultados = pd.DataFrame(resultados)\n",
    "print(\"\\n--- Resumen de predicciones ---\")\n",
    "print(f\"Total de muestras: {len(df_resultados)}\")\n",
    "print(f\"Predicciones con al menos un acierto: {df_resultados['Acierto'].sum()}\")\n",
    "print(f\"Precisión global: {df_resultados['Acierto'].mean():.2f}\")"
   ],
   "id": "200ad9ae1e4cdd64",
   "outputs": [],
   "execution_count": null
  },
  {
   "metadata": {},
   "cell_type": "code",
   "source": [
    "print(\"\\n--- Ejemplos de predicciones ---\")\n",
    "for i in range(min(5, len(df_resultados))):\n",
    "    print(f\"\\nEjemplo {i+1}:\")\n",
    "    print(f\"Título: {df_resultados.iloc[i]['Título']}\")\n",
    "    print(f\"Etiquetas reales: {df_resultados.iloc[i]['Etiquetas_reales']}\")\n",
    "    print(f\"Etiquetas predichas: {df_resultados.iloc[i]['Etiquetas_predichas']}\")"
   ],
   "id": "98d00cc998e83869",
   "outputs": [],
   "execution_count": null
  }
 ],
 "metadata": {
  "kernelspec": {
   "display_name": "Python 3",
   "language": "python",
   "name": "python3"
  },
  "language_info": {
   "codemirror_mode": {
    "name": "ipython",
    "version": 2
   },
   "file_extension": ".py",
   "mimetype": "text/x-python",
   "name": "python",
   "nbconvert_exporter": "python",
   "pygments_lexer": "ipython2",
   "version": "2.7.6"
  }
 },
 "nbformat": 4,
 "nbformat_minor": 5
}
